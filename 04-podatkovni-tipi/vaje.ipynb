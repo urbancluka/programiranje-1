{
 "cells": [
  {
   "cell_type": "code",
   "execution_count": 1,
   "metadata": {
    "vscode": {
     "languageId": "ocaml"
    }
   },
   "outputs": [
    {
     "data": {
      "text/plain": [
       "type euro = Euro of float\n"
      ]
     },
     "execution_count": 1,
     "metadata": {},
     "output_type": "execute_result"
    },
    {
     "data": {
      "text/plain": [
       "type dollar = Dollar of float\n"
      ]
     },
     "execution_count": 1,
     "metadata": {},
     "output_type": "execute_result"
    },
    {
     "data": {
      "text/plain": [
       "val dollar_to_euro : dollar -> euro = <fun>\n"
      ]
     },
     "execution_count": 1,
     "metadata": {},
     "output_type": "execute_result"
    },
    {
     "data": {
      "text/plain": [
       "val euro_to_dollar : euro -> dollar = <fun>\n"
      ]
     },
     "execution_count": 1,
     "metadata": {},
     "output_type": "execute_result"
    }
   ],
   "source": [
    "type euro = Euro of float\n",
    "\n",
    "type dollar = Dollar of float \n",
    "\n",
    "let dollar_to_euro (Dollar x) = Euro (0.9 *. x)\n",
    "\n",
    "let euro_to_dollar (Euro x) = Dollar (1.1 *. x)"
   ]
  },
  {
   "cell_type": "code",
   "execution_count": 7,
   "metadata": {
    "vscode": {
     "languageId": "ocaml"
    }
   },
   "outputs": [
    {
     "data": {
      "text/plain": [
       "val primer_valute_1 : euro = Euro 0.45\n"
      ]
     },
     "execution_count": 7,
     "metadata": {},
     "output_type": "execute_result"
    }
   ],
   "source": [
    "let primer_valute_1 = dollar_to_euro (Dollar 0.5)"
   ]
  },
  {
   "cell_type": "code",
   "execution_count": 10,
   "metadata": {
    "vscode": {
     "languageId": "ocaml"
    }
   },
   "outputs": [
    {
     "data": {
      "text/plain": [
       "type currency = Funt of float | Jen of float | Svedska_krona of float\n"
      ]
     },
     "execution_count": 10,
     "metadata": {},
     "output_type": "execute_result"
    },
    {
     "data": {
      "text/plain": [
       "val to_pound : currency -> currency = <fun>\n"
      ]
     },
     "execution_count": 10,
     "metadata": {},
     "output_type": "execute_result"
    }
   ],
   "source": [
    "type currency =\n",
    "| Funt of float\n",
    "| Jen of float \n",
    "| Svedska_krona of float\n",
    "\n",
    "let to_pound = function\n",
    "  | Funt x -> Funt x \n",
    "  | Jen x -> Funt (1.5 *. x)\n",
    "  | Svedska_krona x -> Funt (2. *. x)"
   ]
  },
  {
   "cell_type": "code",
   "execution_count": 12,
   "metadata": {
    "vscode": {
     "languageId": "ocaml"
    }
   },
   "outputs": [
    {
     "data": {
      "text/plain": [
       "type intbool_list =\n",
       "    Nil\n",
       "  | Int of int * intbool_list\n",
       "  | Bool of bool * intbool_list\n"
      ]
     },
     "execution_count": 12,
     "metadata": {},
     "output_type": "execute_result"
    }
   ],
   "source": [
    "type intbool_list = \n",
    "| Nil \n",
    "| Int of int * intbool_list\n",
    "| Bool of bool * intbool_list"
   ]
  },
  {
   "cell_type": "code",
   "execution_count": 20,
   "metadata": {
    "vscode": {
     "languageId": "ocaml"
    }
   },
   "outputs": [
    {
     "data": {
      "text/plain": [
       "val primer : intbool_list = Int (5, Bool (true, Bool (false, Int (7, Nil))))\n"
      ]
     },
     "execution_count": 20,
     "metadata": {},
     "output_type": "execute_result"
    }
   ],
   "source": [
    "let primer = Int (5 ,(Bool (true, ((Bool (false, (Int (7, Nil))))))))"
   ]
  },
  {
   "cell_type": "code",
   "execution_count": 26,
   "metadata": {
    "vscode": {
     "languageId": "ocaml"
    }
   },
   "outputs": [
    {
     "data": {
      "text/plain": [
       "val intbool_map :\n",
       "  (int -> int) -> (bool -> bool) -> intbool_list -> intbool_list = <fun>\n"
      ]
     },
     "execution_count": 26,
     "metadata": {},
     "output_type": "execute_result"
    }
   ],
   "source": [
    "let rec intbool_map f_int f_bool = function\n",
    "  | Nil -> Nil \n",
    "  | Int (x, ib_list) -> Int (f_int x, intbool_map f_int f_bool ib_list)\n",
    "  | Bool (x, ib_list) -> Bool (f_bool x, intbool_map f_int f_bool ib_list) "
   ]
  },
  {
   "cell_type": "code",
   "execution_count": 28,
   "metadata": {
    "vscode": {
     "languageId": "ocaml"
    }
   },
   "outputs": [
    {
     "data": {
      "text/plain": [
       "val intbool_reverse : intbool_list -> intbool_list = <fun>\n"
      ]
     },
     "execution_count": 28,
     "metadata": {},
     "output_type": "execute_result"
    }
   ],
   "source": [
    "let rec intbool_reverse ibl =\n",
    "  let rec aux current acc =\n",
    "    match current with\n",
    "    | Nil -> acc\n",
    "    | Int (i, x) -> aux x (Int(i, acc))\n",
    "    | Bool (b, y) -> aux y (Bool(b, acc))\n",
    "  in\n",
    "  aux ibl Nil"
   ]
  },
  {
   "cell_type": "code",
   "execution_count": 33,
   "metadata": {
    "vscode": {
     "languageId": "ocaml"
    }
   },
   "outputs": [
    {
     "data": {
      "text/plain": [
       "val intbool_separate : intbool_list -> int list * bool list = <fun>\n"
      ]
     },
     "execution_count": 33,
     "metadata": {},
     "output_type": "execute_result"
    }
   ],
   "source": [
    "let rec intbool_separate ib_list = \n",
    "  let rec aux (int_list, bool_list) current = \n",
    "    match current with \n",
    "    | Nil -> (List.rev int_list, List.rev bool_list)\n",
    "    | Int (x, ib_list) -> aux (x :: int_list, bool_list) ib_list\n",
    "    | Bool (x, ib_list) -> aux (int_list, x :: bool_list) ib_list\n",
    "  in aux ([], []) ib_list"
   ]
  },
  {
   "cell_type": "code",
   "execution_count": 34,
   "metadata": {
    "vscode": {
     "languageId": "ocaml"
    }
   },
   "outputs": [
    {
     "data": {
      "text/plain": [
       "- : int list * bool list = ([5; 7], [true; false])\n"
      ]
     },
     "execution_count": 34,
     "metadata": {},
     "output_type": "execute_result"
    }
   ],
   "source": [
    "intbool_separate primer"
   ]
  },
  {
   "cell_type": "code",
   "execution_count": 48,
   "metadata": {
    "vscode": {
     "languageId": "ocaml"
    }
   },
   "outputs": [
    {
     "data": {
      "text/plain": [
       "type magic = Fire | Frost | Arcane\n"
      ]
     },
     "execution_count": 48,
     "metadata": {},
     "output_type": "execute_result"
    },
    {
     "data": {
      "text/plain": [
       "type specialisation = Historian | Teacher | Researcher\n"
      ]
     },
     "execution_count": 48,
     "metadata": {},
     "output_type": "execute_result"
    }
   ],
   "source": [
    "type magic =\n",
    "| Fire \n",
    "| Frost\n",
    "| Arcane \n",
    "\n",
    "type specialisation =\n",
    "| Historian \n",
    "| Teacher \n",
    "| Researcher "
   ]
  },
  {
   "cell_type": "code",
   "execution_count": 49,
   "metadata": {
    "vscode": {
     "languageId": "ocaml"
    }
   },
   "outputs": [
    {
     "data": {
      "text/plain": [
       "type status =\n",
       "    Newbie\n",
       "  | Student of (magic * int)\n",
       "  | Employed of (magic * specialisation)\n"
      ]
     },
     "execution_count": 49,
     "metadata": {},
     "output_type": "execute_result"
    },
    {
     "data": {
      "text/plain": [
       "type wizard = { ime : string; status : status; }\n"
      ]
     },
     "execution_count": 49,
     "metadata": {},
     "output_type": "execute_result"
    }
   ],
   "source": [
    "type status = \n",
    "| Newbie\n",
    "| Student of (magic * int)\n",
    "| Employed of (magic * specialisation)\n",
    "\n",
    "type wizard = {\n",
    "  ime : string;\n",
    "  status : status\n",
    "}"
   ]
  },
  {
   "cell_type": "code",
   "execution_count": 52,
   "metadata": {
    "vscode": {
     "languageId": "ocaml"
    }
   },
   "outputs": [
    {
     "data": {
      "text/plain": [
       "val professor : wizard =\n",
       "  {ime = \"Profesor\"; status = Employed (Fire, Teacher)}\n"
      ]
     },
     "execution_count": 52,
     "metadata": {},
     "output_type": "execute_result"
    },
    {
     "data": {
      "text/plain": [
       "val jaina : wizard = {ime = \"Jaina\"; status = Student (Frost, 4)}\n"
      ]
     },
     "execution_count": 52,
     "metadata": {},
     "output_type": "execute_result"
    }
   ],
   "source": [
    "let professor = {ime = \"Profesor\"; status = Employed (Fire, Teacher)}\n",
    "let jaina = { ime = \"Jaina\"; status = Student (Frost, 4)}"
   ]
  },
  {
   "cell_type": "code",
   "execution_count": 60,
   "metadata": {
    "vscode": {
     "languageId": "ocaml"
    }
   },
   "outputs": [
    {
     "data": {
      "text/plain": [
       "type magic_counter = { fire : int; frost : int; arcane : int; }\n"
      ]
     },
     "execution_count": 60,
     "metadata": {},
     "output_type": "execute_result"
    },
    {
     "data": {
      "text/plain": [
       "val update : magic_counter -> magic -> magic_counter = <fun>\n"
      ]
     },
     "execution_count": 60,
     "metadata": {},
     "output_type": "execute_result"
    }
   ],
   "source": [
    "type magic_counter = {fire : int; frost : int; arcane : int}\n",
    "\n",
    "let update ({fire = f; frost = i; arcane = a} : magic_counter) = function\n",
    "  | Fire -> {fire = f + 1; frost = i; arcane = a}\n",
    "  | Frost -> {fire = f; frost = i + 1; arcane = a}\n",
    "  | Arcane -> {fire = f; frost = i; arcane = a + 1}\n",
    "  "
   ]
  },
  {
   "cell_type": "code",
   "execution_count": 83,
   "metadata": {
    "vscode": {
     "languageId": "ocaml"
    }
   },
   "outputs": [
    {
     "data": {
      "text/plain": [
       "val count_magic : wizard list -> magic_counter = <fun>\n"
      ]
     },
     "execution_count": 83,
     "metadata": {},
     "output_type": "execute_result"
    },
    {
     "data": {
      "text/plain": [
       "val primer_carovniki_2 : magic_counter = {fire = 3; frost = 0; arcane = 0}\n"
      ]
     },
     "execution_count": 83,
     "metadata": {},
     "output_type": "execute_result"
    }
   ],
   "source": [
    "let count_magic lst = \n",
    "  let rec aux lst acc = \n",
    "    match lst with \n",
    "    | [] -> acc\n",
    "    | x :: xs -> match x.status with \n",
    "      | Newbie -> aux xs acc\n",
    "      | Student (mag, x) -> aux xs (update acc mag)\n",
    "      | Employed (mag, x) -> aux xs (update acc mag)\n",
    "  in aux lst {fire = 0; frost = 0; arcane = 0}\n",
    "\n",
    "  let primer_carovniki_2 = count_magic [professor; professor; professor]"
   ]
  },
  {
   "cell_type": "code",
   "execution_count": 107,
   "metadata": {
    "vscode": {
     "languageId": "ocaml"
    }
   },
   "outputs": [
    {
     "data": {
      "text/plain": [
       "val find_candidate : magic -> specialisation -> wizard list -> string option =\n",
       "  <fun>\n"
      ]
     },
     "execution_count": 107,
     "metadata": {},
     "output_type": "execute_result"
    }
   ],
   "source": [
    "let rec find_candidate mag spec lst = \n",
    "  let requirements spec = \n",
    "    match spec with \n",
    "    | Historian -> Some 3\n",
    "    | Researcher -> Some 4\n",
    "    | Teacher -> Some 5\n",
    "  in\n",
    "  let get_age wzrd = \n",
    "    match wzrd.status with \n",
    "    | Student (x, y) -> Some y \n",
    "    | x -> None\n",
    "  in\n",
    "  let get_spec wzrd = \n",
    "    match wzrd.status with \n",
    "    | Newbie -> None\n",
    "    | Student (x, y) -> None\n",
    "    | Employed (mag, spec) -> Some spec \n",
    "  in\n",
    "  let get_mag wzrd = \n",
    "    match wzrd.status with \n",
    "    | Newbie -> None\n",
    "    | Student (mag, y) -> Some mag\n",
    "    | Employed (mag, spec) -> Some mag \n",
    "  in \n",
    "   match lst with \n",
    "  | [] -> None\n",
    "  | x :: xs -> \n",
    "    if get_mag x = Some mag && \n",
    "      (get_spec x = Some spec || get_age x >= requirements spec) then  Some x.ime else find_candidate mag spec xs"
   ]
  },
  {
   "cell_type": "code",
   "execution_count": 108,
   "metadata": {
    "vscode": {
     "languageId": "ocaml"
    }
   },
   "outputs": [
    {
     "data": {
      "text/plain": [
       "val primer_carovniki_3 : string option = Some \"Jaina\"\n"
      ]
     },
     "execution_count": 108,
     "metadata": {},
     "output_type": "execute_result"
    }
   ],
   "source": [
    "let primer_carovniki_3 =\n",
    "  find_candidate Frost Researcher [professor; jaina]"
   ]
  }
 ],
 "metadata": {
  "kernelspec": {
   "display_name": "OCaml 4.14",
   "language": "OCaml",
   "name": "ocaml-jupyter"
  },
  "language_info": {
   "codemirror_mode": "text/x-ocaml",
   "file_extension": ".ml",
   "mimetype": "text/x-ocaml",
   "name": "OCaml",
   "nbconverter_exporter": null,
   "pygments_lexer": "OCaml",
   "version": "4.14.2"
  },
  "orig_nbformat": 4
 },
 "nbformat": 4,
 "nbformat_minor": 2
}
