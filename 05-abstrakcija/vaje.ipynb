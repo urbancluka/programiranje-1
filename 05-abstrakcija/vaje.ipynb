{
 "cells": [
  {
   "cell_type": "code",
   "execution_count": 3,
   "metadata": {
    "vscode": {
     "languageId": "ocaml"
    }
   },
   "outputs": [
    {
     "data": {
      "text/plain": [
       "module type NAT =\n",
       "  sig\n",
       "    type t\n",
       "    val eq : t -> t -> bool\n",
       "    val zero : t\n",
       "    val one : t\n",
       "    val ( ++ ) : t -> t -> t\n",
       "    val ( -- ) : t -> t -> t\n",
       "    val ( ** ) : t -> t -> t\n",
       "    val to_int : t -> int\n",
       "    val of_int : int -> t\n",
       "  end\n"
      ]
     },
     "execution_count": 3,
     "metadata": {},
     "output_type": "execute_result"
    }
   ],
   "source": [
    "module type NAT = sig\n",
    "  type t\n",
    "\n",
    "  val eq : t -> t -> bool\n",
    "  val zero : t\n",
    "  val one : t \n",
    "  val ( ++ ) : t -> t -> t \n",
    "  val ( -- ) : t -> t -> t option\n",
    "  val ( ** ) : t -> t -> t\n",
    "  val to_int : t -> int\n",
    "  val of_int : int -> t \n",
    "end"
   ]
  },
  {
   "cell_type": "code",
   "execution_count": 8,
   "metadata": {
    "vscode": {
     "languageId": "ocaml"
    }
   },
   "outputs": [
    {
     "ename": "error",
     "evalue": "compile_error",
     "output_type": "error",
     "traceback": [
      "File \"[8]\", line 8, characters 28-32:\n8 |   let ( -- ) t p = If t > p then Some t - p else None\n                                ^^^^\nError: Syntax error: 'end' expected\nFile \"[8]\", line 1, characters 23-29:\n1 | module Nat_int : NAT = struct\n                           ^^^^^^\n  This 'struct' might be unmatched\n"
     ]
    }
   ],
   "source": [
    "module Nat_int : NAT = struct\n",
    "\n",
    "  type t = int\n",
    "  let eq x y = (x = y)\n",
    "  let zero = 0\n",
    "  let one = 1 \n",
    "  let ( ++ ) t p = t + p \n",
    "  let ( -- ) t p = t - p \n",
    "  let ( ** ) t p = t * p \n",
    "  let to_int t = t \n",
    "  let of_int i = i\n",
    "\n",
    "end"
   ]
  },
  {
   "cell_type": "code",
   "execution_count": 27,
   "metadata": {
    "vscode": {
     "languageId": "ocaml"
    }
   },
   "outputs": [
    {
     "data": {
      "text/plain": [
       "module Nat_peano : NAT\n"
      ]
     },
     "execution_count": 27,
     "metadata": {},
     "output_type": "execute_result"
    }
   ],
   "source": [
    "module Nat_peano : NAT = struct\n",
    "\n",
    "  type t = \n",
    "  | Zero \n",
    "  | Succ of t \n",
    "\n",
    "  let rec eq x y = \n",
    "    match x, y with \n",
    "    | Zero, Zero -> true \n",
    "    | Succ _, Zero -> false \n",
    "    | Zero, Succ _ -> false\n",
    "    | Succ x', Succ y' -> eq x' y'\n",
    "  \n",
    "  let zero = Zero\n",
    "  let one = Succ Zero\n",
    "\n",
    "  let rec ( ++ ) x y = \n",
    "    match y with \n",
    "    | Zero -> x \n",
    "    | Succ y' -> Succ x ++ y'\n",
    "\n",
    "  let rec ( -- ) x y = \n",
    "    match x, y with \n",
    "      | Zero, _ -> Zero\n",
    "      | x, Zero -> x\n",
    "      | Succ x', Succ y' -> x' -- y'\n",
    "\n",
    "  let rec ( ** ) x y = \n",
    "    let rec aux y acc = \n",
    "      match y with \n",
    "      | Zero -> acc \n",
    "      | Succ y' -> aux y' (acc ++ x)\n",
    "    in aux y Zero\n",
    "\n",
    "\n",
    "  let rec to_int x = \n",
    "    let rec aux x acc = \n",
    "      match x with \n",
    "      | Zero -> acc\n",
    "      | Succ x -> aux x (acc + 1)\n",
    "    in aux x 0\n",
    "\n",
    "\n",
    "  let of_int (x : int) = \n",
    "    let rec aux (x : int)  (acc : t) = \n",
    "      match x with  \n",
    "      | 0 -> acc\n",
    "      | x -> aux (x - 1) (Succ acc)\n",
    "    in aux x Zero\n",
    "end"
   ]
  },
  {
   "cell_type": "code",
   "execution_count": null,
   "metadata": {
    "vscode": {
     "languageId": "ocaml"
    }
   },
   "outputs": [],
   "source": [
    "let sum_nat_100 = \n",
    "  (* let module Nat = Nat_int in *)\n",
    "  let module Nat = Nat_peano in\n",
    "  Nat.zero (* to popravite na ustrezen izračun *)\n",
    "  (* |> Nat.to_int *)\n",
    "(* val sum_nat_100 : int = 5050 *)"
   ]
  },
  {
   "cell_type": "code",
   "execution_count": 46,
   "metadata": {
    "vscode": {
     "languageId": "ocaml"
    }
   },
   "outputs": [
    {
     "data": {
      "text/plain": [
       "val sum_nat : int = 5050\n"
      ]
     },
     "execution_count": 46,
     "metadata": {},
     "output_type": "execute_result"
    }
   ],
   "source": [
    "let sum_nat = \n",
    "  let module Nat = Nat_peano in\n",
    "  let rec aux (x : Nat_peano.t) (acc : Nat_peano.t) = \n",
    "    if x = Nat_peano.of_int 101 then acc else\n",
    "    aux (Nat_peano.( ++ ) (Nat_peano.of_int 1) (x)) (Nat_peano.( ++ ) (x) (acc))\n",
    "    in aux (Nat_peano.of_int 0) (Nat_peano.of_int 0) |> Nat_peano.to_int"
   ]
  },
  {
   "cell_type": "code",
   "execution_count": 47,
   "metadata": {
    "vscode": {
     "languageId": "ocaml"
    }
   },
   "outputs": [
    {
     "data": {
      "text/plain": [
       "module type COMPLEX =\n",
       "  sig\n",
       "    type t\n",
       "    val eq : t -> t -> bool\n",
       "    val zero : t\n",
       "    val one : t\n",
       "    val i : t\n",
       "    val negation : t -> t\n",
       "    val conjugation : t -> t\n",
       "    val ( ++ ) : t -> t -> t\n",
       "    val ( ** ) : t -> t -> t\n",
       "  end\n"
      ]
     },
     "execution_count": 47,
     "metadata": {},
     "output_type": "execute_result"
    }
   ],
   "source": [
    "module type COMPLEX = sig\n",
    "  type t\n",
    "  val eq : t -> t -> bool\n",
    "  val zero : t \n",
    "  val one : t \n",
    "  val i : t \n",
    "  val negation : t -> t \n",
    "  val conjugation : t -> t \n",
    "  val ( ++ ) : t -> t -> t \n",
    "  val ( ** ) : t -> t -> t \n",
    "end"
   ]
  },
  {
   "cell_type": "code",
   "execution_count": 54,
   "metadata": {
    "vscode": {
     "languageId": "ocaml"
    }
   },
   "outputs": [
    {
     "data": {
      "text/plain": [
       "module Cartesian : COMPLEX\n"
      ]
     },
     "execution_count": 54,
     "metadata": {},
     "output_type": "execute_result"
    }
   ],
   "source": [
    "module Cartesian : COMPLEX = struct\n",
    "\n",
    "  type t = {re : float; im : float}\n",
    "\n",
    "  let eq x y = x.re = y.re && x.im = y.im \n",
    "  \n",
    "  let zero = {re = 0.; im = 0.}\n",
    "  let one = {re = 1.; im = 0.}\n",
    "  let i = {re = 0.; im = 1.}\n",
    "\n",
    "  let negation x = {re = -.x.re; im = -.x.im}\n",
    "  let conjugation x = {x with im = -.x.im}\n",
    "\n",
    "  let ( ++ ) x y = {re = x.re +. y.re; im = x.im +. y.im}\n",
    "  let ( ** ) x y = {re = x.re *. y.re -. x.im *. y.im; im = x.re *. y.im +. x.im *. y.re}\n",
    "\n",
    "end"
   ]
  },
  {
   "cell_type": "code",
   "execution_count": 60,
   "metadata": {
    "vscode": {
     "languageId": "ocaml"
    }
   },
   "outputs": [
    {
     "data": {
      "text/plain": [
       "module Polar : COMPLEX\n"
      ]
     },
     "execution_count": 60,
     "metadata": {},
     "output_type": "execute_result"
    }
   ],
   "source": [
    "module Polar : COMPLEX = struct\n",
    "  (* Content of certain functions it wrong. The programming idea is correct though. *)\n",
    "  type t = {magn : float; arg : float}\n",
    "\n",
    "  (* Pomožne funkcije za lažje življenje. *)\n",
    "  let pi = 2. *. acos 0.\n",
    "  let rad_of_deg deg = (deg /. 180.) *. pi\n",
    "  let deg_of_rad rad = (rad /. pi) *. 180.\n",
    "\n",
    "  let eq x y = x.magn = y.magn && x.arg = y.arg\n",
    "\n",
    "  let zero = {magn = 0.; arg = 0.}\n",
    "  let one = {magn = 1.; arg = 0.}\n",
    "  let i = {magn = 1.; arg = pi /. 2. }\n",
    "\n",
    "  let ( ++ ) x y = {magn = x.magn; arg = x.arg}\n",
    "  let ( ** ) x y = {magn = x.magn *. y.magn; arg = x.arg +. y.arg}\n",
    "\n",
    "  let conjugation x = {x with arg = -.x.arg}\n",
    "  let negation x = {magn = -. x.magn; arg = -.x.arg}\n",
    "\n",
    "end"
   ]
  }
 ],
 "metadata": {
  "kernelspec": {
   "display_name": "OCaml 4.14",
   "language": "OCaml",
   "name": "ocaml-jupyter"
  },
  "language_info": {
   "codemirror_mode": "text/x-ocaml",
   "file_extension": ".ml",
   "mimetype": "text/x-ocaml",
   "name": "OCaml",
   "nbconverter_exporter": null,
   "pygments_lexer": "OCaml",
   "version": "4.14.2"
  },
  "orig_nbformat": 4
 },
 "nbformat": 4,
 "nbformat_minor": 2
}
