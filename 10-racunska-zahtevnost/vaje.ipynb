{
 "cells": [
  {
   "cell_type": "markdown",
   "metadata": {},
   "source": [
    "1. a' list -> a' list\n",
    "2. zaporedni so y_i <= y_i+1\n",
    "3. f je permutacija elementov iz n "
   ]
  },
  {
   "cell_type": "code",
   "execution_count": 1,
   "metadata": {
    "vscode": {
     "languageId": "ocaml"
    }
   },
   "outputs": [
    {
     "data": {
      "text/plain": [
       "val rev : 'a list -> 'a list = <fun>\n"
      ]
     },
     "execution_count": 1,
     "metadata": {},
     "output_type": "execute_result"
    }
   ],
   "source": [
    "let rec rev xs = \n",
    "  match xs with\n",
    "  | [] -> []\n",
    "  | x :: xs' -> (rev xs') @ [x]"
   ]
  },
  {
   "cell_type": "code",
   "execution_count": 34,
   "metadata": {
    "vscode": {
     "languageId": "ocaml"
    }
   },
   "outputs": [
    {
     "data": {
      "text/plain": [
       "val boljsi_rev : 'a list -> 'a list = <fun>\n"
      ]
     },
     "execution_count": 34,
     "metadata": {},
     "output_type": "execute_result"
    }
   ],
   "source": [
    "let rec boljsi_rev xs =\n",
    "  let rec aux xs acc = \n",
    "    match xs with \n",
    "    | [] -> acc\n",
    "    | x :: xs' -> aux xs' (x :: acc)\n",
    "  in aux xs []"
   ]
  },
  {
   "cell_type": "code",
   "execution_count": 1,
   "metadata": {
    "vscode": {
     "languageId": "ocaml"
    }
   },
   "outputs": [
    {
     "data": {
      "text/plain": [
       "val insert : 'a -> 'a list -> 'a list = <fun>\n"
      ]
     },
     "execution_count": 1,
     "metadata": {},
     "output_type": "execute_result"
    }
   ],
   "source": [
    "let rec insert num lst =  \n",
    "  match lst with\n",
    "  | [] -> num :: []\n",
    "  | x :: xs' -> if x > num then num :: x :: xs' (* enako tudi num @ [x] @ xs' *)\n",
    "  else x :: (insert num xs') (* [x] :: (insert num xs) *)"
   ]
  },
  {
   "cell_type": "code",
   "execution_count": 3,
   "metadata": {
    "vscode": {
     "languageId": "ocaml"
    }
   },
   "outputs": [
    {
     "data": {
      "text/plain": [
       "val insert_sort : 'a list -> 'a list = <fun>\n"
      ]
     },
     "execution_count": 3,
     "metadata": {},
     "output_type": "execute_result"
    }
   ],
   "source": [
    "let rec insert_sort seznam = \n",
    "  let rec aux seznam acc = \n",
    "    match seznam with \n",
    "    | [] -> acc \n",
    "    | x :: xs -> aux xs (insert x acc)\n",
    "  in aux seznam []"
   ]
  },
  {
   "cell_type": "code",
   "execution_count": 7,
   "metadata": {
    "vscode": {
     "languageId": "ocaml"
    }
   },
   "outputs": [
    {
     "data": {
      "text/plain": [
       "val swap : 'a array -> int -> int -> unit = <fun>\n"
      ]
     },
     "execution_count": 7,
     "metadata": {},
     "output_type": "execute_result"
    }
   ],
   "source": [
    "let swap a i j =\n",
    "  if i <> j then (\n",
    "    let temp = a.(i) in\n",
    "    a.(i) <- a.(j);\n",
    "    a.(j) <- temp\n",
    "  )\n",
    "\n"
   ]
  },
  {
   "cell_type": "code",
   "execution_count": 20,
   "metadata": {
    "vscode": {
     "languageId": "ocaml"
    }
   },
   "outputs": [
    {
     "data": {
      "text/plain": [
       "val index_min : 'a array -> int -> int -> int = <fun>\n"
      ]
     },
     "execution_count": 20,
     "metadata": {},
     "output_type": "execute_result"
    }
   ],
   "source": [
    "let rec index_min a lower upper = \n",
    "  let rec aux lower upper current_val current_index = \n",
    "    if lower = upper then current_index else (\n",
    "      if current_val <= a.(lower + 1) then aux (lower + 1) upper current_val current_index else (\n",
    "        aux (lower + 1) upper (a.(lower + 1)) (current_index + 1)\n",
    "      )\n",
    "    ) in aux lower upper a.(lower) lower"
   ]
  },
  {
   "cell_type": "code",
   "execution_count": null,
   "metadata": {
    "vscode": {
     "languageId": "ocaml"
    }
   },
   "outputs": [],
   "source": [
    "let selection_sort_array arr =\n",
    "  let n = Array.length arr in\n",
    "  for i = 0 to n - 2 do\n",
    "    let min_index = index_min arr i in\n",
    "    if min_index <> i then swap arr i min_index\n",
    "  done"
   ]
  },
  {
   "cell_type": "code",
   "execution_count": 24,
   "metadata": {
    "vscode": {
     "languageId": "ocaml"
    }
   },
   "outputs": [
    {
     "data": {
      "text/plain": [
       "val min_list : 'a list -> 'a = <fun>\n"
      ]
     },
     "execution_count": 24,
     "metadata": {},
     "output_type": "execute_result"
    },
    {
     "data": {
      "text/plain": [
       "val remove_first : 'a -> 'a list -> 'a list = <fun>\n"
      ]
     },
     "execution_count": 24,
     "metadata": {},
     "output_type": "execute_result"
    },
    {
     "data": {
      "text/plain": [
       "val min_and_rest : 'a list -> ('a * 'a list) option = <fun>\n"
      ]
     },
     "execution_count": 24,
     "metadata": {},
     "output_type": "execute_result"
    }
   ],
   "source": [
    "let rec min_list lst =\n",
    "  match lst with\n",
    "  | [] -> failwith \"Empty list has no minimum\"\n",
    "  | [x] -> x  (* Base case: single-element list, minimum is the element itself *)\n",
    "  | hd :: tl -> min hd (min_list tl)\n",
    "\n",
    "let rec remove_first x lst =\n",
    "  match lst with\n",
    "  | [] -> []  (* Base case: empty list *)\n",
    "  | y :: ys -> if x = y then ys else y :: remove_first x ys\n",
    "\n",
    "let rec min_and_rest lst = \n",
    "  match lst with \n",
    "  | [] -> None \n",
    "  | x :: xs -> Some (min_list lst, remove_first (min_list lst) lst)"
   ]
  },
  {
   "cell_type": "code",
   "execution_count": 35,
   "metadata": {
    "vscode": {
     "languageId": "ocaml"
    }
   },
   "outputs": [
    {
     "data": {
      "text/plain": [
       "val selection_sort : 'a list -> 'a list = <fun>\n"
      ]
     },
     "execution_count": 35,
     "metadata": {},
     "output_type": "execute_result"
    }
   ],
   "source": [
    "let rec selection_sort lst =\n",
    "  let rec aux lst acc = \n",
    "    match lst with \n",
    "    | [] -> boljsi_rev acc\n",
    "    | x :: xs -> \n",
    "      match min_and_rest lst with\n",
    "      | None -> failwith \"Napaka\"\n",
    "      | Some (x, y) -> \n",
    "      aux y (x :: acc)\n",
    "  in aux lst []"
   ]
  },
  {
   "cell_type": "code",
   "execution_count": 38,
   "metadata": {
    "vscode": {
     "languageId": "ocaml"
    }
   },
   "outputs": [
    {
     "data": {
      "text/plain": [
       "val randlist : int -> int -> int list = <fun>\n"
      ]
     },
     "execution_count": 38,
     "metadata": {},
     "output_type": "execute_result"
    }
   ],
   "source": [
    "let rec randlist len max =\n",
    "  let rec aux acc len max = \n",
    "    if len = 0 then acc else (\n",
    "      aux (Random.int max :: acc) (len - 1) max\n",
    "    ) \n",
    "  in aux [] len max"
   ]
  },
  {
   "cell_type": "code",
   "execution_count": 39,
   "metadata": {
    "vscode": {
     "languageId": "ocaml"
    }
   },
   "outputs": [
    {
     "data": {
      "text/plain": [
       "val test : int list = [5; 8; 9; 5; 7; 0; 1; 0; 4; 0]\n"
      ]
     },
     "execution_count": 39,
     "metadata": {},
     "output_type": "execute_result"
    }
   ],
   "source": [
    "let test = randlist 10 10 "
   ]
  }
 ],
 "metadata": {
  "kernelspec": {
   "display_name": "OCaml 4.14",
   "language": "OCaml",
   "name": "ocaml-jupyter"
  },
  "language_info": {
   "codemirror_mode": "text/x-ocaml",
   "file_extension": ".ml",
   "mimetype": "text/x-ocaml",
   "name": "OCaml",
   "nbconverter_exporter": null,
   "pygments_lexer": "OCaml",
   "version": "4.14.2"
  },
  "orig_nbformat": 4
 },
 "nbformat": 4,
 "nbformat_minor": 2
}
