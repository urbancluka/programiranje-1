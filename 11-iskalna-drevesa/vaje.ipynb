{
 "cells": [
  {
   "cell_type": "code",
   "execution_count": 24,
   "metadata": {
    "vscode": {
     "languageId": "ocaml"
    }
   },
   "outputs": [
    {
     "data": {
      "text/plain": [
       "type 'a tree = Empty | Node of ('a tree * 'a * 'a tree)\n"
      ]
     },
     "execution_count": 24,
     "metadata": {},
     "output_type": "execute_result"
    },
    {
     "data": {
      "text/plain": [
       "val leaf : 'a -> 'a tree = <fun>\n"
      ]
     },
     "execution_count": 24,
     "metadata": {},
     "output_type": "execute_result"
    },
    {
     "data": {
      "text/plain": [
       "val test_tree : int tree =\n",
       "  Node\n",
       "   (Node (Node (Empty, 0, Empty), 2, Empty), 5,\n",
       "    Node (Node (Empty, 6, Empty), 7, Node (Empty, 11, Empty)))\n"
      ]
     },
     "execution_count": 24,
     "metadata": {},
     "output_type": "execute_result"
    }
   ],
   "source": [
    "type 'a tree =\n",
    "| Empty \n",
    "| Node of (('a tree) * 'a * ('a tree))\n",
    "\n",
    "let leaf x = \n",
    "     Node (Empty, x, Empty)\n",
    "let test_tree = Node (Node(leaf 0, 2, Empty), 5, Node(leaf 6, 7, leaf 11))"
   ]
  },
  {
   "cell_type": "code",
   "execution_count": 25,
   "metadata": {
    "vscode": {
     "languageId": "ocaml"
    }
   },
   "outputs": [
    {
     "data": {
      "text/plain": [
       "val mirror : 'a tree -> 'a tree = <fun>\n"
      ]
     },
     "execution_count": 25,
     "metadata": {},
     "output_type": "execute_result"
    },
    {
     "data": {
      "text/plain": [
       "val test_1 : int tree =\n",
       "  Node\n",
       "   (Node (Node (Empty, 11, Empty), 7, Node (Empty, 6, Empty)), 5,\n",
       "    Node (Empty, 2, Node (Empty, 0, Empty)))\n"
      ]
     },
     "execution_count": 25,
     "metadata": {},
     "output_type": "execute_result"
    }
   ],
   "source": [
    "let rec mirror tree = \n",
    "  match tree with \n",
    "  | Empty -> Empty\n",
    "  | Node (l, x, r) -> Node(mirror r, x, mirror l)\n",
    "\n",
    "let test_1 = mirror test_tree"
   ]
  },
  {
   "cell_type": "code",
   "execution_count": 26,
   "metadata": {
    "vscode": {
     "languageId": "ocaml"
    }
   },
   "outputs": [
    {
     "data": {
      "text/plain": [
       "val height : 'a tree -> int = <fun>\n"
      ]
     },
     "execution_count": 26,
     "metadata": {},
     "output_type": "execute_result"
    }
   ],
   "source": [
    "let rec height tree = \n",
    "  match tree with \n",
    "  | Empty -> 0\n",
    "  | Node (l, x, d) -> 1 + (max (height l) (height d))"
   ]
  },
  {
   "cell_type": "code",
   "execution_count": 27,
   "metadata": {
    "vscode": {
     "languageId": "ocaml"
    }
   },
   "outputs": [
    {
     "data": {
      "text/plain": [
       "val test_2 : int = 3\n"
      ]
     },
     "execution_count": 27,
     "metadata": {},
     "output_type": "execute_result"
    }
   ],
   "source": [
    "let test_2 = height test_tree"
   ]
  },
  {
   "cell_type": "code",
   "execution_count": 28,
   "metadata": {
    "vscode": {
     "languageId": "ocaml"
    }
   },
   "outputs": [
    {
     "data": {
      "text/plain": [
       "val map_tree : ('a -> 'b) -> 'a tree -> 'b tree = <fun>\n"
      ]
     },
     "execution_count": 28,
     "metadata": {},
     "output_type": "execute_result"
    }
   ],
   "source": [
    "let rec map_tree f tree =\n",
    "  match tree with \n",
    "  | Empty -> Empty\n",
    "  | Node (l, x, r) -> Node(map_tree f l, f x, map_tree f r)"
   ]
  },
  {
   "cell_type": "code",
   "execution_count": 29,
   "metadata": {
    "vscode": {
     "languageId": "ocaml"
    }
   },
   "outputs": [
    {
     "data": {
      "text/plain": [
       "val test_3 : bool tree =\n",
       "  Node\n",
       "   (Node (Node (Empty, false, Empty), false, Empty), true,\n",
       "    Node (Node (Empty, true, Empty), true, Node (Empty, true, Empty)))\n"
      ]
     },
     "execution_count": 29,
     "metadata": {},
     "output_type": "execute_result"
    }
   ],
   "source": [
    "let test_3 = map_tree ((<)3) test_tree"
   ]
  },
  {
   "cell_type": "code",
   "execution_count": 34,
   "metadata": {
    "vscode": {
     "languageId": "ocaml"
    }
   },
   "outputs": [
    {
     "data": {
      "text/plain": [
       "val list_of_tree : 'a tree -> 'a list = <fun>\n"
      ]
     },
     "execution_count": 34,
     "metadata": {},
     "output_type": "execute_result"
    }
   ],
   "source": [
    "let rec list_of_tree tree = \n",
    "  match tree with \n",
    "  | Empty -> []\n",
    "  | Node (l, x , r) -> (list_of_tree l) @ (x :: list_of_tree r)"
   ]
  },
  {
   "cell_type": "code",
   "execution_count": 61,
   "metadata": {
    "vscode": {
     "languageId": "ocaml"
    }
   },
   "outputs": [
    {
     "data": {
      "text/plain": [
       "val first : 'a list -> 'a = <fun>\n"
      ]
     },
     "execution_count": 61,
     "metadata": {},
     "output_type": "execute_result"
    },
    {
     "data": {
      "text/plain": [
       "val last : 'a list -> 'a = <fun>\n"
      ]
     },
     "execution_count": 61,
     "metadata": {},
     "output_type": "execute_result"
    },
    {
     "data": {
      "text/plain": [
       "val is_bst : 'a tree -> bool = <fun>\n"
      ]
     },
     "execution_count": 61,
     "metadata": {},
     "output_type": "execute_result"
    }
   ],
   "source": [
    "let first lst = \n",
    "  match lst with\n",
    "  | [] -> failwith \"Empty\"\n",
    "  | x :: xs -> x \n",
    "\n",
    "let rec last lst =\n",
    "  match lst with \n",
    "  | [] -> failwith \"Empty\"\n",
    "  | [x] -> x\n",
    "  | x :: xs -> last xs\n",
    "\n",
    "  \n",
    "let rec is_bst tree =\n",
    "match tree with\n",
    "| Empty -> true\n",
    "| Node (l, x, r) when (last (list_of_tree l) < x) && (first (list_of_tree r)) > x -> (is_bst l && is_bst r) \n",
    "| Node (_, _, _) -> false"
   ]
  },
  {
   "cell_type": "code",
   "execution_count": 65,
   "metadata": {
    "vscode": {
     "languageId": "ocaml"
    }
   },
   "outputs": [
    {
     "data": {
      "text/plain": [
       "val member : 'a tree -> 'a -> bool = <fun>\n"
      ]
     },
     "execution_count": 65,
     "metadata": {},
     "output_type": "execute_result"
    },
    {
     "data": {
      "text/plain": [
       "val insert : 'a tree -> 'a -> 'a tree = <fun>\n"
      ]
     },
     "execution_count": 65,
     "metadata": {},
     "output_type": "execute_result"
    }
   ],
   "source": [
    "let rec member tree el = \n",
    "  match tree with \n",
    "  | Empty -> false\n",
    "  | Node (l, x , r) -> member l el || el = x || member r el\n",
    "\n",
    "let rec insert tree el = \n",
    "  if member tree el then tree else \n",
    "  match tree with \n",
    "  | Empty -> leaf el \n",
    "  | Node (l, x, r) ->  if el < x then Node (insert l el, x, r) else Node (l, x , insert r el)"
   ]
  }
 ],
 "metadata": {
  "kernelspec": {
   "display_name": "OCaml 4.14",
   "language": "OCaml",
   "name": "ocaml-jupyter"
  },
  "language_info": {
   "codemirror_mode": "text/x-ocaml",
   "file_extension": ".ml",
   "mimetype": "text/x-ocaml",
   "name": "OCaml",
   "nbconverter_exporter": null,
   "pygments_lexer": "OCaml",
   "version": "4.14.2"
  },
  "orig_nbformat": 4
 },
 "nbformat": 4,
 "nbformat_minor": 2
}
