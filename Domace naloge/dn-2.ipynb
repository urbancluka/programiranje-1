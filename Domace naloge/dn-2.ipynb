{
 "cells": [
  {
   "cell_type": "markdown",
   "metadata": {},
   "source": [
    "# 2. domača naloga"
   ]
  },
  {
   "cell_type": "markdown",
   "metadata": {},
   "source": [
    "Pri tej nalogi boste napisali svoj simulator računalnika, ki se bo malenkostno razlikoval od [tistega, ki smo ga spoznali na predavanjih](https://schweigi.github.io/assembler-simulator/):\n",
    "- Simulator bo uporabljal Harvardsko arhitekturo, kar pomeni, da bo ločil med pomnilnikoma za program in podatke.\n",
    "- Namesto pomnilnika z omejeno velikostjo bomo imeli samo sklad, ki ga bomo predstavili s poljubno velikim seznamom.\n",
    "- Prav tako ne bomo vsega predstavili z 8-bitnimi števili. Za ukaze bomo definirali svoj naštevni tip, števila v pomnilniku pa bodo taka, kot jih podpira OCaml."
   ]
  },
  {
   "cell_type": "markdown",
   "metadata": {},
   "source": [
    "## Podatkovni tipi"
   ]
  },
  {
   "cell_type": "markdown",
   "metadata": {},
   "source": [
    "Pri vsakem večjem funkcijskem programu je prvi korak definicija ustreznih tipov. V simulatorju bomo imeli dva glavna tipa: `instruction`, s katerim bomo predstavili posamezne ukaze v programu, in `state`, s katerim bomo predstavili trenutno stanje računalnika. Seveda pa si bomo morali pred njima definirati še nekaj pomožnih tipov."
   ]
  },
  {
   "cell_type": "markdown",
   "metadata": {},
   "source": [
    "### Registri"
   ]
  },
  {
   "cell_type": "markdown",
   "metadata": {},
   "source": [
    "Nekateri ukazi za argument sprejmejo register, ki ga spreminjajo, na primer: `INC A` ali `POP B`.\n",
    "\n",
    "Definirajte naštevni tip `register`, ki bo predstavljal štiri možne registre procesorja **A**, **B**, **C** in **D**."
   ]
  },
  {
   "cell_type": "code",
   "execution_count": 94,
   "metadata": {
    "vscode": {
     "languageId": "ocaml"
    }
   },
   "outputs": [
    {
     "data": {
      "text/plain": [
       "val primer_tipi_1 : register list list = [[A; B; B; A]; [A; C; D; C]]\n"
      ]
     },
     "execution_count": 94,
     "metadata": {},
     "output_type": "execute_result"
    }
   ],
   "source": [
    "let primer_tipi_1 = [[A; B; B; A]; [A; C; D; C]]"
   ]
  },
  {
   "cell_type": "markdown",
   "metadata": {},
   "source": [
    "### Izrazi"
   ]
  },
  {
   "cell_type": "markdown",
   "metadata": {
    "vscode": {
     "languageId": "ocaml"
    }
   },
   "source": [
    "Nekateri ukazi poleg registra sprejmejo še dodaten argument, ki je lahko bodisi register, bodisi celoštevilska konstanta, na primer `MOV A, B` ali `MOV A, 42`. Definirajte naštevni tip `expression`, ki predstavlja izraze, ki so lahko registri ali števila."
   ]
  },
  {
   "cell_type": "code",
   "execution_count": 96,
   "metadata": {
    "vscode": {
     "languageId": "ocaml"
    }
   },
   "outputs": [
    {
     "data": {
      "text/plain": [
       "val primer_tipi_2 : expression list = [Register B; Const 42]\n"
      ]
     },
     "execution_count": 96,
     "metadata": {},
     "output_type": "execute_result"
    }
   ],
   "source": [
    "let primer_tipi_2 = [Register B; Const 42]"
   ]
  },
  {
   "cell_type": "markdown",
   "metadata": {},
   "source": [
    "### Naslovi"
   ]
  },
  {
   "cell_type": "markdown",
   "metadata": {},
   "source": [
    "Ukazi za skoke za argument sprejmejo naslov ukaza v pomnilniku. Naslove bomo predstavili s celimi števili, da pa jih ne bi ponesreči zamešali s celoštevilskimi konstantami, definirajte še tip `address`, ki naj bo naštevni tip z eno samo varianto `Address` s celoštevilskim argumentom."
   ]
  },
  {
   "cell_type": "code",
   "execution_count": 98,
   "metadata": {
    "vscode": {
     "languageId": "ocaml"
    }
   },
   "outputs": [
    {
     "data": {
      "text/plain": [
       "val primer_tipi_3 : int * address = (42, Address 42)\n"
      ]
     },
     "execution_count": 98,
     "metadata": {},
     "output_type": "execute_result"
    }
   ],
   "source": [
    "let primer_tipi_3 = (42, Address 42)"
   ]
  },
  {
   "cell_type": "markdown",
   "metadata": {},
   "source": [
    "### Ukazi"
   ]
  },
  {
   "cell_type": "markdown",
   "metadata": {
    "vscode": {
     "languageId": "ocaml"
    }
   },
   "source": [
    "Naš simulator bo podpiral naslednje ukaze, pri čemer je _R_ vedno poljuben register, _A_ naslov v ukaznem pomnilniku, _E_ pa izraz, torej bodisi register bodisi celoštevilska konstanta.\n",
    "\n",
    "ukaz                      | opis \n",
    "------------------------: | -----------------------------------------------------------------------------------------------------\n",
    "`MOV` _R_, _E_            | premakni vrednost izraza _E_ v register _R_          \n",
    "`ADD`/`SUB` _R_, _E_      | register _R_ povečaj/zmanjšaj za _E_\n",
    "`INC`/`DEC` _R_           | register _R_ povečaj/zmanjšaj za 1\n",
    "`MUL`/`DIV` _E_           | register _A_ pomnoži/deli z _E_\n",
    "`AND`/`OR`/`XOR` _R_, _E_ | v register _R_ shrani rezultat logične operacije _R op V_\n",
    "`NOT` _R_                 | negiraj register _R_\n",
    "`SHL`/`SHR` _R_, _E_      | register _R_ pomakni za _E_ mest v levo/desno\n",
    "`CMP` _R_, _E_            | primerjaj register _R_ z vrednostjo _E_ ter rezultat primerjave shrani v zastavici **Zero** in **Carry**\n",
    "`JMP` _A_                 | skoči na naslov _A_\n",
    "`JA`/`JAE` _A_            | skoči na naslov _A_, če je v zadnji primerjavi veljalo _x > y_ / _x ≥ y_\n",
    "`JB`/`JBE` _A_            | skoči na naslov _A_, če je v zadnji primerjavi veljalo _x < y_ / _x ≤ y_\n",
    "`JE`/`JNE` _A_            | skoči na naslov _A_, če je v zadnji primerjavi veljalo _x = y_ / _x ≠ y_\n",
    "`CALL` _A_                | skoči na naslov _A_ in shrani naslov naslednjega ukaza na vrh sklada\n",
    "`RET`                     | iz funkcije se vrni na naslov na vrhu sklada\n",
    "`PUSH` _E_                | vrednost izraza _E_ shrani na vrh sklada\n",
    "`POP` _R_                 | snemi vrednost s sklada in jo shrani v register _R_\n",
    "`HLT`                     | ustavi izvajanje programa"
   ]
  },
  {
   "cell_type": "markdown",
   "metadata": {},
   "source": [
    "Dopolnite naslednjo definicijo tipa `instruction`, da bo imel eno varianto za vsakega od zgoraj navedenih ukazov:"
   ]
  },
  {
   "cell_type": "code",
   "execution_count": 100,
   "metadata": {
    "vscode": {
     "languageId": "ocaml"
    }
   },
   "outputs": [
    {
     "data": {
      "text/plain": [
       "val primer_tipi_4 : instruction list =\n",
       "  [MOV (A, Register B); MOV (C, Const 42); JA (Address 10); HLT]\n"
      ]
     },
     "execution_count": 100,
     "metadata": {},
     "output_type": "execute_result"
    }
   ],
   "source": [
    "let primer_tipi_4 = [ MOV (A, Register B); MOV (C, Const 42); JA (Address 10); HLT ]"
   ]
  },
  {
   "cell_type": "markdown",
   "metadata": {},
   "source": [
    "### Pomnilnik"
   ]
  },
  {
   "cell_type": "markdown",
   "metadata": {},
   "source": [
    "Morda v nasprotju s pričakovanji ukazov ne bomo shranjevali v sezname tipa `instruction list`, ampak v tabele tipa `instruction array`. O tabelah se bomo še pogovarjali, njihova bistvena prednost pa je ta, da do elementa na danem mestu lahko dostopamo takoj, ne da bi se morali sprehoditi po predhodnih elementih. Tabele pišemo tako kot sezname, le da oklepaje pišemo kot `[| ... |]` namesto kot `[ ... ]`, do posameznega elementa tabele pa dostopamo prek `tabela.(indeks)`, na primer `[| 314; 42; 2718 |].(1)` vrne `42`."
   ]
  },
  {
   "cell_type": "markdown",
   "metadata": {},
   "source": [
    "Nazadnje bomo celotno stanje računalnika predstavili z zapisnim. Definirajte tip `state` s sledečimi polji:\n",
    "- `instructions`: tabela ukazov v ukaznem pomnilniku,\n",
    "- `a`, `b`, `c`, `d`: štiri celoštevilske vrednosti v registrih, \n",
    "- `ip`: naslov trenutnega ukaza, tipa `address`,\n",
    "- `zero`, `carry`: vrednosti zastavic **Zero** in **Carry**,\n",
    "- `stack`: seznam celoštevilskih vrednosti na skladu."
   ]
  },
  {
   "cell_type": "code",
   "execution_count": 102,
   "metadata": {
    "vscode": {
     "languageId": "ocaml"
    }
   },
   "outputs": [
    {
     "data": {
      "text/plain": [
       "val primer_tipi_6 : state =\n",
       "  {instructions =\n",
       "    [|MOV (A, Register B); MOV (C, Const 42); JA (Address 10); HLT|];\n",
       "   a = 1; b = 2; c = 3; d = 4; ip = Address 0; zero = true; carry = false;\n",
       "   stack = [5; 6; 7]}\n"
      ]
     },
     "execution_count": 102,
     "metadata": {},
     "output_type": "execute_result"
    }
   ],
   "source": [
    "let primer_tipi_6 = {\n",
    "  instructions = [| MOV (A, Register B); MOV (C, Const 42); JA (Address 10); HLT |];\n",
    "  a = 1; b = 2; c = 3; d = 4;\n",
    "  ip = Address 0;\n",
    "  zero = true; carry = false;\n",
    "  stack = [5; 6; 7];\n",
    "}"
   ]
  },
  {
   "cell_type": "markdown",
   "metadata": {},
   "source": [
    "### Začetno stanje"
   ]
  },
  {
   "cell_type": "markdown",
   "metadata": {},
   "source": [
    "Kljub temu, da so tabele učinkovitejše, so seznami za delo bolj praktični. Zato definirajte funkcijo `init : instruction list -> state`, ki sprejme seznam ukazov in vrne začetno stanje računalnika, v katerem so vsi registri in zastavice nastavljeni na nič, sklad pa je prazen. Pri tem si lahko za pretvorbo seznama v tabelo pomagate z uporabo funkcije `Array.of_list`."
   ]
  },
  {
   "cell_type": "code",
   "execution_count": 104,
   "metadata": {
    "vscode": {
     "languageId": "ocaml"
    }
   },
   "outputs": [
    {
     "data": {
      "text/plain": [
       "val primer_tipi_7 : state =\n",
       "  {instructions =\n",
       "    [|MOV (A, Register B); MOV (C, Const 42); JA (Address 10); HLT|];\n",
       "   a = 0; b = 0; c = 0; d = 0; ip = Address 0; zero = false; carry = false;\n",
       "   stack = []}\n"
      ]
     },
     "execution_count": 104,
     "metadata": {},
     "output_type": "execute_result"
    }
   ],
   "source": [
    "let primer_tipi_7 = init [ MOV (A, Register B); MOV (C, Const 42); JA (Address 10); HLT ]"
   ]
  },
  {
   "cell_type": "markdown",
   "metadata": {},
   "source": [
    "## Izvajanje ukazov"
   ]
  },
  {
   "cell_type": "markdown",
   "metadata": {},
   "source": [
    "S pripravljenima tipoma ukazov in stanja se lahko lotimo pisanja funkcij za izvrševanje ukazov."
   ]
  },
  {
   "cell_type": "markdown",
   "metadata": {},
   "source": [
    "### Branje stanja"
   ]
  },
  {
   "cell_type": "markdown",
   "metadata": {},
   "source": [
    "Napišite funkcijo `read_instruction : state -> instruction`, ki v danem stanju vrne trenuten ukaz."
   ]
  },
  {
   "cell_type": "code",
   "execution_count": 106,
   "metadata": {
    "vscode": {
     "languageId": "ocaml"
    }
   },
   "outputs": [
    {
     "data": {
      "text/plain": [
       "val primer_izvajanje_1 : instruction = MOV (A, Register B)\n"
      ]
     },
     "execution_count": 106,
     "metadata": {},
     "output_type": "execute_result"
    }
   ],
   "source": [
    "let primer_izvajanje_1 =\n",
    "  read_instruction primer_tipi_6"
   ]
  },
  {
   "cell_type": "markdown",
   "metadata": {},
   "source": [
    "Napišite funkcijo `read_register : state -> register -> int`, ki vrne vrednost registra v danem stanju."
   ]
  },
  {
   "cell_type": "code",
   "execution_count": 108,
   "metadata": {
    "vscode": {
     "languageId": "ocaml"
    }
   },
   "outputs": [
    {
     "data": {
      "text/plain": [
       "val primer_izvajanje_2 : int = 2\n"
      ]
     },
     "execution_count": 108,
     "metadata": {},
     "output_type": "execute_result"
    }
   ],
   "source": [
    "let primer_izvajanje_2 =\n",
    "  read_register primer_tipi_6 B"
   ]
  },
  {
   "cell_type": "markdown",
   "metadata": {},
   "source": [
    "Napišite funkcijo `read_expression : state -> expression -> int`, ki vrne celoštevilsko vrednost izraza v danem stanju."
   ]
  },
  {
   "cell_type": "code",
   "execution_count": 110,
   "metadata": {
    "vscode": {
     "languageId": "ocaml"
    }
   },
   "outputs": [
    {
     "data": {
      "text/plain": [
       "val primer_izvajanje_3 : int = 2\n"
      ]
     },
     "execution_count": 110,
     "metadata": {},
     "output_type": "execute_result"
    }
   ],
   "source": [
    "let primer_izvajanje_3 =\n",
    "  read_expression primer_tipi_6 (Register B)"
   ]
  },
  {
   "cell_type": "code",
   "execution_count": 111,
   "metadata": {
    "vscode": {
     "languageId": "ocaml"
    }
   },
   "outputs": [
    {
     "data": {
      "text/plain": [
       "val primer_izvajanje_4 : int = 42\n"
      ]
     },
     "execution_count": 111,
     "metadata": {},
     "output_type": "execute_result"
    }
   ],
   "source": [
    "let primer_izvajanje_4 =\n",
    "  read_expression primer_tipi_6 (Const 42)"
   ]
  },
  {
   "cell_type": "markdown",
   "metadata": {},
   "source": [
    "### Spreminjanje registrov"
   ]
  },
  {
   "cell_type": "markdown",
   "metadata": {},
   "source": [
    "Napišite funkcijo `write_register : state -> register -> int -> state`, ki vrednost registra v danem stanju nastavi na dano število. Funkcija naj vrne novo stanje."
   ]
  },
  {
   "cell_type": "code",
   "execution_count": 113,
   "metadata": {
    "vscode": {
     "languageId": "ocaml"
    }
   },
   "outputs": [
    {
     "data": {
      "text/plain": [
       "val primer_izvajanje_5 : state =\n",
       "  {instructions =\n",
       "    [|MOV (A, Register B); MOV (C, Const 42); JA (Address 10); HLT|];\n",
       "   a = 1; b = 2; c = 3; d = 24; ip = Address 0; zero = true; carry = false;\n",
       "   stack = [5; 6; 7]}\n"
      ]
     },
     "execution_count": 113,
     "metadata": {},
     "output_type": "execute_result"
    }
   ],
   "source": [
    "let primer_izvajanje_5 =\n",
    "  write_register primer_tipi_6 D 24"
   ]
  },
  {
   "cell_type": "markdown",
   "metadata": {},
   "source": [
    "Napišite funkcijo `perform_unop : (int -> int) -> state -> register -> state`, ki izvede eniško operacijo na vrednosti registra. Funkcija naj vrne novo stanje s spremenjenim registrom."
   ]
  },
  {
   "cell_type": "code",
   "execution_count": 115,
   "metadata": {
    "vscode": {
     "languageId": "ocaml"
    }
   },
   "outputs": [
    {
     "data": {
      "text/plain": [
       "val primer_izvajanje_6 : state =\n",
       "  {instructions =\n",
       "    [|MOV (A, Register B); MOV (C, Const 42); JA (Address 10); HLT|];\n",
       "   a = 1; b = 2; c = 303; d = 4; ip = Address 0; zero = true; carry = false;\n",
       "   stack = [5; 6; 7]}\n"
      ]
     },
     "execution_count": 115,
     "metadata": {},
     "output_type": "execute_result"
    }
   ],
   "source": [
    "let primer_izvajanje_6 =\n",
    "  perform_unop (fun x -> 101 * x) primer_tipi_6 C"
   ]
  },
  {
   "cell_type": "markdown",
   "metadata": {},
   "source": [
    "Napišite funkcijo `perform_binop : (int -> int -> int) -> state -> register -> expression -> state`, ki izvede dvojiško operacijo na danem registru in izrazu. Funkcija naj vrne novo stanje s spremenjenim registrom."
   ]
  },
  {
   "cell_type": "code",
   "execution_count": 117,
   "metadata": {
    "vscode": {
     "languageId": "ocaml"
    }
   },
   "outputs": [
    {
     "data": {
      "text/plain": [
       "val primer_izvajanje_7 : state =\n",
       "  {instructions =\n",
       "    [|MOV (A, Register B); MOV (C, Const 42); JA (Address 10); HLT|];\n",
       "   a = 1; b = 2; c = 303; d = 4; ip = Address 0; zero = true; carry = false;\n",
       "   stack = [5; 6; 7]}\n"
      ]
     },
     "execution_count": 117,
     "metadata": {},
     "output_type": "execute_result"
    }
   ],
   "source": [
    "let primer_izvajanje_7 =\n",
    "  perform_binop ( * ) primer_tipi_6 C (Const 101)"
   ]
  },
  {
   "cell_type": "markdown",
   "metadata": {},
   "source": [
    "### Skoki"
   ]
  },
  {
   "cell_type": "markdown",
   "metadata": {},
   "source": [
    "Napišite funkcijo `next : address -> address`, ki vrne naslednji naslov (torej povečan za 1, saj v našem primeru vsi ukazi zasedejo enako prostora)."
   ]
  },
  {
   "cell_type": "code",
   "execution_count": 119,
   "metadata": {
    "vscode": {
     "languageId": "ocaml"
    }
   },
   "outputs": [
    {
     "data": {
      "text/plain": [
       "val primer_izvajanje_8 : address = Address 42\n"
      ]
     },
     "execution_count": 119,
     "metadata": {},
     "output_type": "execute_result"
    }
   ],
   "source": [
    "let primer_izvajanje_8 =\n",
    "  next (Address 41)"
   ]
  },
  {
   "cell_type": "markdown",
   "metadata": {},
   "source": [
    "Napišite funkciji `jump : state -> address -> state` in `proceed : state -> state`. Prva naj v danem stanju skoči na dani naslov, druga pa naj skoči na naslednji ukaz."
   ]
  },
  {
   "cell_type": "markdown",
   "metadata": {},
   "source": [
    "Napišite funkciji `push_stack : state -> int -> state` in `pop_stack : state -> int * state`, ki dodata vrednost na sklad oziroma jo odstranita z njega. Funkcija `pop_stack` poleg spremenjenega stanja vrne tudi odstranjeno vrednost. Če je sklad prazen, naj funkcija `pop_stack` sproži izjemo."
   ]
  },
  {
   "cell_type": "markdown",
   "metadata": {},
   "source": [
    "### Pogojni skoki"
   ]
  },
  {
   "cell_type": "markdown",
   "metadata": {},
   "source": [
    "Napišite funkcijo `compare : state -> int -> int -> state`, ki primerja vrednosti dveh števil in ustrezno nastavi zastavici **Zero** in **Carry**. Prvo naj nastavi na `true` natanko tedaj, kadar sta števili enaki, drugo pa takrat, kadar je prvo število manjše.Funkcija naj vrne novo stanje."
   ]
  },
  {
   "cell_type": "markdown",
   "metadata": {},
   "source": [
    "Napišite funkcijo `conditional_jump : state -> bool -> address -> state`, ki skoči na dani naslov, če je podan pogoj izpolnjen. V nasprotnem primeru naj funkcija skoči na naslednji ukaz."
   ]
  },
  {
   "cell_type": "markdown",
   "metadata": {},
   "source": [
    "### Klici funkcij"
   ]
  },
  {
   "cell_type": "markdown",
   "metadata": {},
   "source": [
    "Napišite funkcijo `call : state -> address -> state`, ki v danem stanju skoči na dani naslov in na sklad doda naslednji naslov."
   ]
  },
  {
   "cell_type": "markdown",
   "metadata": {},
   "source": [
    "Napišite funkcijo `return : state -> state`, ki v danem stanju skoči na naslov, ki je na vrhu sklada, in odstrani ta naslov s sklada."
   ]
  },
  {
   "cell_type": "markdown",
   "metadata": {},
   "source": [
    "### Izvajanje programov"
   ]
  },
  {
   "cell_type": "markdown",
   "metadata": {},
   "source": [
    "S pomočjo zgoraj definiranih funkcij dopolnite funkcijo `run_instruction : state -> instruction -> state`, ki izvede podani ukaz v danem stanju in vrne novo stanje. Funkcija naj uporablja vse zgoraj definirane funkcije."
   ]
  },
  {
   "cell_type": "markdown",
   "metadata": {},
   "source": [
    "Napišite funkcijo `run_program : state -> state`, ki izvaja ukaze v danem stanju, dokler ne naleti na ukaz `HLT`. Funkcija naj vrne končno stanje."
   ]
  },
  {
   "cell_type": "markdown",
   "metadata": {},
   "source": [
    "## Branje zbirnika"
   ]
  },
  {
   "cell_type": "markdown",
   "metadata": {},
   "source": [
    "Da bomo programe lahko pisali v zbirniku, napišimo še funkcije za branje nizov. Predpostavljate lahko, da bodo vsi nizi pravilno oblikovani, zato v primeru napake s `failwith ...` javite ustrezno sporočilo o napaki."
   ]
  },
  {
   "cell_type": "markdown",
   "metadata": {},
   "source": [
    "### Registri in izrazi"
   ]
  },
  {
   "cell_type": "markdown",
   "metadata": {},
   "source": [
    "Napišite funkcijo `parse_register : string -> register`, ki iz niza prebere register."
   ]
  },
  {
   "cell_type": "code",
   "execution_count": 129,
   "metadata": {
    "vscode": {
     "languageId": "ocaml"
    }
   },
   "outputs": [
    {
     "data": {
      "text/plain": [
       "val primer_branje_1 : register = A\n"
      ]
     },
     "execution_count": 129,
     "metadata": {},
     "output_type": "execute_result"
    }
   ],
   "source": [
    "let primer_branje_1 = parse_register \"A\""
   ]
  },
  {
   "cell_type": "markdown",
   "metadata": {},
   "source": [
    "Napišite funkcijo `parse_expression : string -> expression`, ki iz niza prebere izraz."
   ]
  },
  {
   "cell_type": "code",
   "execution_count": 131,
   "metadata": {
    "vscode": {
     "languageId": "ocaml"
    }
   },
   "outputs": [
    {
     "data": {
      "text/plain": [
       "val primer_branje_2 : expression = Register A\n"
      ]
     },
     "execution_count": 131,
     "metadata": {},
     "output_type": "execute_result"
    }
   ],
   "source": [
    "let primer_branje_2 = parse_expression \"A\""
   ]
  },
  {
   "cell_type": "code",
   "execution_count": 132,
   "metadata": {
    "vscode": {
     "languageId": "ocaml"
    }
   },
   "outputs": [
    {
     "data": {
      "text/plain": [
       "val primer_branje_3 : expression = Const 42\n"
      ]
     },
     "execution_count": 132,
     "metadata": {},
     "output_type": "execute_result"
    }
   ],
   "source": [
    "let primer_branje_3 = parse_expression \"42\""
   ]
  },
  {
   "cell_type": "markdown",
   "metadata": {},
   "source": [
    "### Čiščenje vrstic"
   ]
  },
  {
   "cell_type": "markdown",
   "metadata": {},
   "source": [
    "Napišite funkcijo `clean_line : string -> string`, ki iz niza odstrani vse presledke in komentarje (ki se začnejo z znakom `;`). Pri iskanju in odstranjevanju komentarjev si pomagajte z uporabo funkcij `String.index_opt` in `String.sub`."
   ]
  },
  {
   "cell_type": "code",
   "execution_count": 134,
   "metadata": {
    "vscode": {
     "languageId": "ocaml"
    }
   },
   "outputs": [
    {
     "data": {
      "text/plain": [
       "val primer_branje_4 : string = \"MOV A, 42\"\n"
      ]
     },
     "execution_count": 134,
     "metadata": {},
     "output_type": "execute_result"
    }
   ],
   "source": [
    "let primer_branje_4 = clean_line \"   MOV A, 42    ; To je komentar   \""
   ]
  },
  {
   "cell_type": "markdown",
   "metadata": {},
   "source": [
    "Napišite funkcijo `clean_lines : string list -> string list`, ki iz seznama nizov najprej odstrani vse komentarje in presledke, nato pa odstrani vse prazne vrstice."
   ]
  },
  {
   "cell_type": "markdown",
   "metadata": {},
   "source": [
    "### Oznake"
   ]
  },
  {
   "cell_type": "markdown",
   "metadata": {},
   "source": [
    "Kot smo navajeni iz zbirnika, skokov ne podajamo z indeksi, ampak raje v dele kode napišemo oznake kot so `main:` ali `.loop:`, nato pa se nanje sklicujemo kot `JA .loop`, `JMP main`, `CALL fib` in tako naprej. Oznake bomo hranili v seznamu, ki bo vsaki oznaki priredil ustrezen naslov v ukaznem pomnilniku."
   ]
  },
  {
   "cell_type": "markdown",
   "metadata": {},
   "source": [
    "Napišite funkcijo `parse_address : (string * address) list -> string -> address`, ki pri danem seznamu oznak iz niza prebere naslov. Naslov je lahko podan direktno s številom ali pa z eno izmed oznak v seznamu."
   ]
  },
  {
   "cell_type": "code",
   "execution_count": 137,
   "metadata": {
    "vscode": {
     "languageId": "ocaml"
    }
   },
   "outputs": [
    {
     "data": {
      "text/plain": [
       "val primer_branje_5 : address = Address 42\n"
      ]
     },
     "execution_count": 137,
     "metadata": {},
     "output_type": "execute_result"
    }
   ],
   "source": [
    "let primer_branje_5 = parse_address [(\"main\", Address 42)] \"main\""
   ]
  },
  {
   "cell_type": "code",
   "execution_count": 138,
   "metadata": {
    "vscode": {
     "languageId": "ocaml"
    }
   },
   "outputs": [
    {
     "data": {
      "text/plain": [
       "val primer_branje_6 : address = Address 123\n"
      ]
     },
     "execution_count": 138,
     "metadata": {},
     "output_type": "execute_result"
    }
   ],
   "source": [
    "let primer_branje_6 = parse_address [(\"main\", Address 42)] \"123\""
   ]
  },
  {
   "cell_type": "markdown",
   "metadata": {},
   "source": [
    "Napišite funkcijo `parse_label : string -> string option`, ki vrne oznako, če se niz konča z dvopičjem, sicer pa vrne `None`."
   ]
  },
  {
   "cell_type": "code",
   "execution_count": 140,
   "metadata": {
    "vscode": {
     "languageId": "ocaml"
    }
   },
   "outputs": [
    {
     "data": {
      "text/plain": [
       "val primer_branje_7 : string option = Some \"main\"\n"
      ]
     },
     "execution_count": 140,
     "metadata": {},
     "output_type": "execute_result"
    }
   ],
   "source": [
    "let primer_branje_7 = parse_label \"main:\""
   ]
  },
  {
   "cell_type": "code",
   "execution_count": 141,
   "metadata": {
    "vscode": {
     "languageId": "ocaml"
    }
   },
   "outputs": [
    {
     "data": {
      "text/plain": [
       "val primer_branje_8 : string option = None\n"
      ]
     },
     "execution_count": 141,
     "metadata": {},
     "output_type": "execute_result"
    }
   ],
   "source": [
    "let primer_branje_8 = parse_label \"MOV A, 42\""
   ]
  },
  {
   "cell_type": "markdown",
   "metadata": {},
   "source": [
    "Da bomo iz kode določili oznake, napišite funkcijo `parse_labels : string list -> (string * address) list * string list`, ki iz seznama nizov, ki so bodisi oznake bodisi ukazi, izloči oznake in jim priredi naslove, ostale vrstice pa pusti nespremenjene."
   ]
  },
  {
   "cell_type": "code",
   "execution_count": 143,
   "metadata": {
    "vscode": {
     "languageId": "ocaml"
    }
   },
   "outputs": [
    {
     "data": {
      "text/plain": [
       "val primer_branje_9 : (string * address) list * string list =\n",
       "  ([(\"loop\", Address 2); (\"main\", Address 1)],\n",
       "   [\"JMP main\"; \"MOV A, 0\"; \"INC A\"; \"JMP loop\"])\n"
      ]
     },
     "execution_count": 143,
     "metadata": {},
     "output_type": "execute_result"
    }
   ],
   "source": [
    "let primer_branje_9 =\n",
    "  parse_labels [\"JMP main\"; \"main:\"; \"MOV A, 0\"; \"loop:\"; \"INC A\"; \"JMP loop\"]"
   ]
  },
  {
   "cell_type": "markdown",
   "metadata": {},
   "source": [
    "Dopolnite spodnjo funkcijo `parse_instruction : (string * address) list -> string -> instruction`, ki iz niza prebere ukaz."
   ]
  },
  {
   "cell_type": "code",
   "execution_count": 145,
   "metadata": {
    "vscode": {
     "languageId": "ocaml"
    }
   },
   "outputs": [
    {
     "data": {
      "text/plain": [
       "val primer_branje_10 : instruction list =\n",
       "  [MOV (A, Const 42); CALL (Address 42); HLT]\n"
      ]
     },
     "execution_count": 145,
     "metadata": {},
     "output_type": "execute_result"
    }
   ],
   "source": [
    "let primer_branje_10 =\n",
    "  List.map (parse_instruction [(\"main\", Address 42)]) [\"MOV A, 42\"; \"CALL main\"; \"HLT\"]"
   ]
  },
  {
   "cell_type": "markdown",
   "metadata": {},
   "source": [
    "S pomočjo zgoraj napisanih funkcij sestavite funkcijo `run : string -> state`, ki niz razbije na vrstice, prebere ukaze in oznake ter pripravi začetno stanje, nato pa program izvaja vse dokler ne naleti na ukaz `HLT`. Po klicu naj funkcija vrne končno stanje."
   ]
  },
  {
   "cell_type": "code",
   "execution_count": 147,
   "metadata": {
    "vscode": {
     "languageId": "ocaml"
    }
   },
   "outputs": [
    {
     "data": {
      "text/plain": [
       "val fibonacci : string =\n",
       "  \"\\n  JMP main\\n  ; Funkcija, ki izračuna fib(A) in vrednost shrani v register A\\n  fib:\\n      ; Shranimo vrednosti registrov\\n      PUSH C\\n      PUSH B\\n  \\n      ; V C shranimo začetno vrednost A\\n      MOV C, A\\n  \\n      ; Če je A = 0, je to tudi rezultat\\n      CMP A, 0\\n      JE .fib_end\\n  \\n      ; Če\"... (* string length 920; truncated *)\n"
      ]
     },
     "execution_count": 147,
     "metadata": {},
     "output_type": "execute_result"
    }
   ],
   "source": [
    "let fibonacci = {|\n",
    "  JMP main\n",
    "  ; Funkcija, ki izračuna fib(A) in vrednost shrani v register A\n",
    "  fib:\n",
    "      ; Shranimo vrednosti registrov\n",
    "      PUSH C\n",
    "      PUSH B\n",
    "  \n",
    "      ; V C shranimo začetno vrednost A\n",
    "      MOV C, A\n",
    "  \n",
    "      ; Če je A = 0, je to tudi rezultat\n",
    "      CMP A, 0\n",
    "      JE .fib_end\n",
    "  \n",
    "      ; Če je A = 1, je to tudi rezultat\n",
    "      CMP A, 1\n",
    "      JE .fib_end\n",
    "  \n",
    "      ; V nasprotnem primeru najprej izračunamo fib(A - 1) in ga shranimo v B\n",
    "      DEC C\n",
    "      MOV A, C\n",
    "      CALL fib\n",
    "      MOV B, A\n",
    "  \n",
    "      ; Nato izračunamo še fib(A - 2) in ga shranimo v A\n",
    "      DEC C\n",
    "      MOV A, C\n",
    "      CALL fib\n",
    "      \n",
    "      ; Nazadnje k A prištejemo še B, s čimer dobimo končni rezultat\n",
    "      ADD A, B\n",
    "      JMP .fib_end\n",
    "  \n",
    "  .fib_end:\n",
    "      ; Povrnemo vrednosti registrov in vrnemo rezultat\n",
    "      POP B\n",
    "      POP C\n",
    "      RET\n",
    "  \n",
    "  main:\n",
    "      MOV B, 10\n",
    "      MOV C, 20\n",
    "      MOV D, 30\n",
    "      MOV A, 7\n",
    "      CALL fib\n",
    "  HLT\n",
    "|}"
   ]
  },
  {
   "cell_type": "code",
   "execution_count": 148,
   "metadata": {
    "vscode": {
     "languageId": "ocaml"
    }
   },
   "outputs": [
    {
     "data": {
      "text/plain": [
       "val primer_branje_11 : state =\n",
       "  {instructions =\n",
       "    [|JMP (Address 20); PUSH (Register C); PUSH (Register B);\n",
       "      MOV (C, Register A); CMP (A, Const 0); JE (Address 17);\n",
       "      CMP (A, Const 1); JE (Address 17); DEC C; MOV (A, Register C);\n",
       "      CALL (Address 1); MOV (B, Register A); DEC C; MOV (A, Register C);\n",
       "      CALL (Address 1); ADD (A, Register B); JMP (Address 17); POP B; \n",
       "      POP C; RET; MOV (B, Const 10); MOV (C, Const 20); MOV (D, Const 30);\n",
       "      MOV (A, Const 7); CALL (Address 1); HLT|];\n",
       "   a = 13; b = 10; c = 20; d = 30; ip = Address 25; zero = true;\n",
       "   carry = false; stack = []}\n"
      ]
     },
     "execution_count": 148,
     "metadata": {},
     "output_type": "execute_result"
    }
   ],
   "source": [
    "let primer_branje_11 =\n",
    "  run fibonacci"
   ]
  }
 ],
 "metadata": {
  "kernelspec": {
   "display_name": "OCaml 4.14",
   "language": "OCaml",
   "name": "ocaml-jupyter"
  },
  "language_info": {
   "codemirror_mode": "text/x-ocaml",
   "file_extension": ".ml",
   "mimetype": "text/x-ocaml",
   "name": "OCaml",
   "nbconverter_exporter": null,
   "pygments_lexer": "OCaml",
   "version": "4.14.2"
  }
 },
 "nbformat": 4,
 "nbformat_minor": 2
}
