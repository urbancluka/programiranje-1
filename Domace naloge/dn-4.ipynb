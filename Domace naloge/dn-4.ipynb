{
 "cells": [
  {
   "cell_type": "code",
   "execution_count": 1,
   "metadata": {
    "vscode": {
     "languageId": "ocaml"
    }
   },
   "outputs": [
    {
     "data": {
      "text/plain": [
       "type direction = Left | Right\n"
      ]
     },
     "execution_count": 1,
     "metadata": {},
     "output_type": "execute_result"
    },
    {
     "data": {
      "text/plain": [
       "type state = string\n"
      ]
     },
     "execution_count": 1,
     "metadata": {},
     "output_type": "execute_result"
    }
   ],
   "source": [
    "type direction = Left | Right\n",
    "type state = string \n",
    "\n",
    "(* Komentarji v datoteki so za lazje razumevanje ob morebitnem zagovoru *)"
   ]
  },
  {
   "cell_type": "code",
   "execution_count": 119,
   "metadata": {
    "vscode": {
     "languageId": "ocaml"
    }
   },
   "outputs": [
    {
     "data": {
      "text/plain": [
       "module Tape :\n",
       "  sig\n",
       "    type t = { negative : char list; head : char; positive : char list; }\n",
       "    val make : String.t -> t\n",
       "    val read : t -> char\n",
       "    val write : char -> t -> t\n",
       "    val move : direction -> t -> t\n",
       "    val print : t -> unit\n",
       "  end\n"
      ]
     },
     "execution_count": 119,
     "metadata": {},
     "output_type": "execute_result"
    }
   ],
   "source": [
    "module Tape = struct \n",
    "  type t = {\n",
    "    negative : char list;\n",
    "    head : char; \n",
    "    positive : char list;  \n",
    "  }\n",
    "  \n",
    "  let make str = \n",
    "    match (String.to_seq str |> List.of_seq) with\n",
    "    | [] -> { negative = []; head = ' '; positive = [] }\n",
    "    | x :: xs -> { negative = []; head = x; positive = xs }\n",
    "  \n",
    "  let read (tape : t) : char =\n",
    "    tape.head\n",
    "\n",
    "  let write (ch : char) (tape : t) : t =\n",
    "    { tape with head = ch }\n",
    "\n",
    "  let move (direction : direction) (tape : t) : t = \n",
    "    match direction with \n",
    "    | Left -> (\n",
    "        match tape.negative with \n",
    "        | [] -> { negative = []; head = ' '; positive = tape.head :: tape.positive }\n",
    "        | x :: xs -> { negative = xs; head = x; positive = tape.head :: tape.positive }\n",
    "      )\n",
    "    | Right -> (\n",
    "        match tape.positive with \n",
    "        | [] -> { negative = tape.head :: tape.negative; head = ' '; positive = [] } \n",
    "        | x :: xs -> { negative = tape.head :: tape.negative; head = x; positive = xs }\n",
    "      )\n",
    "\n",
    "  let print (tape : t) : unit = \n",
    "    print_string (List.to_seq (List.rev tape.negative) |> String.of_seq);\n",
    "    print_char tape.head;\n",
    "    print_string (List.to_seq tape.positive |> String.of_seq);\n",
    "    print_newline ();\n",
    "    print_string (String.make (List.length tape.negative) ' ');\n",
    "    print_char '^';\n",
    "    print_newline ()\n",
    "end\n",
    "\n",
    "\n"
   ]
  },
  {
   "cell_type": "code",
   "execution_count": 120,
   "metadata": {
    "vscode": {
     "languageId": "ocaml"
    }
   },
   "outputs": [
    {
     "name": "stdout",
     "output_type": "stream",
     "text": [
      "AB!DE\n",
      " ^\n"
     ]
    },
    {
     "data": {
      "text/plain": [
       "val primer_trak_1 : unit = ()\n"
      ]
     },
     "execution_count": 120,
     "metadata": {},
     "output_type": "execute_result"
    }
   ],
   "source": [
    "let primer_trak_1 = Tape.(\n",
    "  make \"ABCDE\"\n",
    "  |> move Right\n",
    "  |> move Right\n",
    "  |> write '!'\n",
    "  |> move Left\n",
    "  |> print\n",
    ")"
   ]
  },
  {
   "cell_type": "code",
   "execution_count": 121,
   "metadata": {
    "vscode": {
     "languageId": "ocaml"
    }
   },
   "outputs": [
    {
     "name": "stdout",
     "output_type": "stream",
     "text": [
      "  AB!DE\n",
      "    ^\n"
     ]
    },
    {
     "data": {
      "text/plain": [
       "val primer_trak_2 : unit = ()\n"
      ]
     },
     "execution_count": 121,
     "metadata": {},
     "output_type": "execute_result"
    }
   ],
   "source": [
    "let primer_trak_2 = Tape.(\n",
    "  make \"ABCDE\"\n",
    "  |> move Left\n",
    "  |> move Left\n",
    "  |> move Right\n",
    "  |> move Right\n",
    "  |> move Right\n",
    "  |> move Right\n",
    "  |> write '!'\n",
    "  |> print\n",
    ")"
   ]
  },
  {
   "cell_type": "code",
   "execution_count": 142,
   "metadata": {
    "vscode": {
     "languageId": "ocaml"
    }
   },
   "outputs": [
    {
     "data": {
      "text/plain": [
       "module Machine :\n",
       "  sig\n",
       "    type t\n",
       "    val make : state -> state list -> t\n",
       "    val initial : t -> state\n",
       "    val add_transition :\n",
       "      state -> char -> state -> char -> direction -> t -> t\n",
       "    val step : t -> state -> Tape.t -> (state * Tape.t) option\n",
       "  end\n"
      ]
     },
     "execution_count": 142,
     "metadata": {},
     "output_type": "execute_result"
    }
   ],
   "source": [
    "module Machine : sig\n",
    "  type t\n",
    "  val make : state -> state list -> t\n",
    "  val initial : t -> state\n",
    "  val add_transition : state -> char -> state -> char -> direction -> t -> t\n",
    "  val step : t -> state -> Tape.t -> (state * Tape.t) option\n",
    "end = struct\n",
    "\n",
    "  module StringMap = Map.Make(String) \n",
    "\n",
    "  type t = { \n",
    "    initial_state : state;\n",
    "    states : int StringMap.t; \n",
    "    transitions : (state * char * direction) option array array \n",
    "  }\n",
    "\n",
    "  let add_transition st_state st_head end_state end_head direction machine = {\n",
    "    machine with \n",
    "    transitions = \n",
    "      let new_transitions = Array.map (fun row -> Array.copy row) machine.transitions in (* Create copy of starting transition array *)\n",
    "      let x = StringMap.find st_state machine.states in (* Locate index of st_state in array *)\n",
    "      let y = Char.code st_head in (* Assign head value a unique code *)\n",
    "      new_transitions.(x).(y) <- Some (end_state, end_head, direction); (* Assign the new transition at location (state_index, head_code) *)\n",
    "      new_transitions\n",
    "  } (* Return new machine with only transitions modified *)\n",
    "\n",
    "  let make initial_state states =  \n",
    "    { \n",
    "      initial_state = initial_state; \n",
    "      states = List.mapi (fun idx state -> (state, idx)) (initial_state :: states)\n",
    "               |> List.to_seq |> StringMap.of_seq; (* Generate int code of all state, create sequence of (state, index) pairs, create StringMap from sequence *)\n",
    "      transitions = Array.make_matrix (List.length (initial_state :: states)) 128 None (* Ensure correct size and fill matrix with 'None' *)\n",
    "    }\n",
    "\n",
    "  let initial (machine : t) : state = \n",
    "    machine.initial_state \n",
    "\n",
    "  let step machine state tape = \n",
    "    let x = StringMap.find state machine.states in (* Find index of current state *)\n",
    "    let y = Char.code (Tape.read tape) in (* Find index of current head *)\n",
    "    match machine.transitions.(x).(y) with\n",
    "    | None -> None (* No further instructions were found in array, stop machine *)\n",
    "    | Some (state', head', direction) -> (* New instructions found, change state, head and move tape *)\n",
    "      let new_tape = tape |> Tape.write head' |> Tape.move direction in\n",
    "      Some (state', new_tape)\n",
    "end\n"
   ]
  },
  {
   "cell_type": "code",
   "execution_count": 144,
   "metadata": {
    "vscode": {
     "languageId": "ocaml"
    }
   },
   "outputs": [
    {
     "data": {
      "text/plain": [
       "val binary_increment : Machine.t = <abstr>\n"
      ]
     },
     "execution_count": 144,
     "metadata": {},
     "output_type": "execute_result"
    }
   ],
   "source": [
    "let binary_increment =\n",
    "  Machine.(\n",
    "    make \"right\" [ \"carry\"; \"done\" ]\n",
    "    |> add_transition \"right\" '1' \"right\" '1' Right\n",
    "    |> add_transition \"right\" '0' \"right\" '0' Right\n",
    "    |> add_transition \"right\" ' ' \"carry\" ' ' Left\n",
    "    |> add_transition \"carry\" '1' \"carry\" '0' Left\n",
    "    |> add_transition \"carry\" '0' \"done\" '1' Left\n",
    "    |> add_transition \"carry\" ' ' \"done\" '1' Left\n",
    "  )"
   ]
  },
  {
   "cell_type": "code",
   "execution_count": 201,
   "metadata": {
    "vscode": {
     "languageId": "ocaml"
    }
   },
   "outputs": [
    {
     "data": {
      "text/plain": [
       "val slow_run : Machine.t -> String.t -> unit = <fun>\n"
      ]
     },
     "execution_count": 201,
     "metadata": {},
     "output_type": "execute_result"
    }
   ],
   "source": [
    "let slow_run (machine : Machine.t) (starting_string) : unit =\n",
    "  let rec run state tape =\n",
    "    print_endline \"Tape: \";\n",
    "    Tape.print tape;\n",
    "    print_endline (\"State: \" ^ state); (* Display tape, head position and current state of machine *)\n",
    "    match Machine.step machine state tape with\n",
    "      | None -> () (* If no further instructions, end *)\n",
    "      | Some (state', tape') -> (* Continue running *)\n",
    "        run state' tape'\n",
    "  in\n",
    "  run (Machine.initial machine) (Tape.make starting_string) (* Create new machine with starting tape and display each step*)\n"
   ]
  },
  {
   "cell_type": "code",
   "execution_count": 202,
   "metadata": {
    "vscode": {
     "languageId": "ocaml"
    }
   },
   "outputs": [
    {
     "name": "stdout",
     "output_type": "stream",
     "text": [
      "Tape: \n",
      "1011\n",
      "^\n",
      "State: right\n",
      "Tape: \n",
      "1011\n",
      " ^\n",
      "State: right\n",
      "Tape: \n",
      "1011\n",
      "  ^\n",
      "State: right\n",
      "Tape: \n",
      "1011\n",
      "   ^\n",
      "State: right\n",
      "Tape: \n",
      "1011 \n",
      "    ^\n",
      "State: right\n",
      "Tape: \n",
      "1011 \n",
      "   ^\n",
      "State: carry\n",
      "Tape: \n",
      "1010 \n",
      "  ^\n",
      "State: carry\n",
      "Tape: \n",
      "1000 \n",
      " ^\n",
      "State: carry\n",
      "Tape: \n",
      "1100 \n",
      "^\n",
      "State: done\n"
     ]
    },
    {
     "data": {
      "text/plain": [
       "val primer_slow_run : unit = ()\n"
      ]
     },
     "execution_count": 202,
     "metadata": {},
     "output_type": "execute_result"
    }
   ],
   "source": [
    "let primer_slow_run = slow_run binary_increment \"1011\""
   ]
  },
  {
   "cell_type": "code",
   "execution_count": 203,
   "metadata": {
    "vscode": {
     "languageId": "ocaml"
    }
   },
   "outputs": [
    {
     "data": {
      "text/plain": [
       "val speed_run : Machine.t -> String.t -> unit = <fun>\n"
      ]
     },
     "execution_count": 203,
     "metadata": {},
     "output_type": "execute_result"
    }
   ],
   "source": [
    "let speed_run (machine : Machine.t) (starting_string) : unit = \n",
    "  let rec run state tape =\n",
    "    match Machine.step machine state tape with\n",
    "      | None -> tape (* No further instructions, stop running *)\n",
    "      | Some (state', tape') -> (* Continue running *)\n",
    "        run state' tape'\n",
    "  in \n",
    "  let stop_machine = run (Machine.initial machine) (Tape.make starting_string) in (* Finished version of machine to be printed *)\n",
    "  Tape.print stop_machine"
   ]
  },
  {
   "cell_type": "code",
   "execution_count": 204,
   "metadata": {
    "vscode": {
     "languageId": "ocaml"
    }
   },
   "outputs": [
    {
     "name": "stdout",
     "output_type": "stream",
     "text": [
      "1100 \n",
      "^\n"
     ]
    },
    {
     "data": {
      "text/plain": [
       "val primer_speed_run : unit = ()\n"
      ]
     },
     "execution_count": 204,
     "metadata": {},
     "output_type": "execute_result"
    }
   ],
   "source": [
    "let primer_speed_run = speed_run binary_increment \"1011\""
   ]
  },
  {
   "cell_type": "code",
   "execution_count": 149,
   "metadata": {
    "vscode": {
     "languageId": "ocaml"
    }
   },
   "outputs": [
    {
     "data": {
      "text/plain": [
       "val for_state :\n",
       "  state ->\n",
       "  (state -> Machine.t -> Machine.t) list list -> Machine.t -> Machine.t =\n",
       "  <fun>\n"
      ]
     },
     "execution_count": 149,
     "metadata": {},
     "output_type": "execute_result"
    },
    {
     "data": {
      "text/plain": [
       "val for_characters :\n",
       "  string ->\n",
       "  (char -> state -> Machine.t -> Machine.t) ->\n",
       "  (state -> Machine.t -> Machine.t) list = <fun>\n"
      ]
     },
     "execution_count": 149,
     "metadata": {},
     "output_type": "execute_result"
    },
    {
     "data": {
      "text/plain": [
       "val for_character :\n",
       "  char ->\n",
       "  (char -> state -> Machine.t -> Machine.t) ->\n",
       "  (state -> Machine.t -> Machine.t) list = <fun>\n"
      ]
     },
     "execution_count": 149,
     "metadata": {},
     "output_type": "execute_result"
    },
    {
     "data": {
      "text/plain": [
       "val move : direction -> char -> state -> Machine.t -> Machine.t = <fun>\n"
      ]
     },
     "execution_count": 149,
     "metadata": {},
     "output_type": "execute_result"
    },
    {
     "data": {
      "text/plain": [
       "val switch_and_move :\n",
       "  state -> direction -> char -> state -> Machine.t -> Machine.t = <fun>\n"
      ]
     },
     "execution_count": 149,
     "metadata": {},
     "output_type": "execute_result"
    },
    {
     "data": {
      "text/plain": [
       "val write_and_move :\n",
       "  char -> direction -> char -> state -> Machine.t -> Machine.t = <fun>\n"
      ]
     },
     "execution_count": 149,
     "metadata": {},
     "output_type": "execute_result"
    },
    {
     "data": {
      "text/plain": [
       "val write_switch_and_move :\n",
       "  char -> state -> direction -> char -> state -> Machine.t -> Machine.t =\n",
       "  <fun>\n"
      ]
     },
     "execution_count": 149,
     "metadata": {},
     "output_type": "execute_result"
    }
   ],
   "source": [
    "(* Applies list of transitions to machine *)\n",
    "let for_state (state : state) (transitions : (state -> Machine.t -> Machine.t) list list) (machine: Machine.t) : Machine.t = \n",
    "  transitions\n",
    "  |> List.flatten\n",
    "  |> List.map (fun transition -> transition state) (* Bind transitions to the specified state *)\n",
    "  |> List.fold_left (fun machine' transition -> transition machine') machine (* Apply each transition to the machine *)\n",
    "\n",
    "(* Create list of transitions for multiple characters *)\n",
    "let for_characters (heads : string) (transition : char -> state -> Machine.t -> Machine.t) : (state -> Machine.t -> Machine.t) list = (* Create list of transitions for multiple characters *)\n",
    "  heads\n",
    "  |> String.to_seq\n",
    "  |> List.of_seq\n",
    "  |> List.map transition (* Create transition for each character *)\n",
    "\n",
    "(* Create transition for character in head *)\n",
    "let for_character (head : char) (transition : char -> state -> Machine.t -> Machine.t) : (state -> Machine.t -> Machine.t) list = \n",
    "  [transition head]\n",
    "  \n",
    "(* Only perform move without changing state or head value *)\n",
    "let move (direction : direction) : (char -> state -> Machine.t -> Machine.t) = \n",
    "  fun head state machine -> Machine.add_transition state head state head direction machine\n",
    "\n",
    "(* Create transition to switch state, keep head and move in direction *)\n",
    "let switch_and_move (state' : state) (direction : direction) : (char -> state -> Machine.t -> Machine.t) = (* *)\n",
    "  fun head state machine -> Machine.add_transition state head state' head direction machine\n",
    "\n",
    "(* Create transition to write char to head, keep same state and move *)\n",
    "let write_and_move (head' : char) (direction : direction) : (char -> state -> Machine.t -> Machine.t) =\n",
    "  fun head state machine -> Machine.add_transition state head state head' direction machine\n",
    "\n",
    "(* Create transition to write char, switch state, move tape *)\n",
    "let write_switch_and_move (head' : char) (state' : state) (direction : direction) : (char -> state -> Machine.t -> Machine.t) =\n",
    "  fun head state machine -> Machine.add_transition state head state' head' direction machine"
   ]
  },
  {
   "cell_type": "code",
   "execution_count": 259,
   "metadata": {
    "vscode": {
     "languageId": "ocaml"
    }
   },
   "outputs": [
    {
     "data": {
      "text/plain": [
       "val binary_increment' : Machine.t = <abstr>\n"
      ]
     },
     "execution_count": 259,
     "metadata": {},
     "output_type": "execute_result"
    }
   ],
   "source": [
    "let binary_increment' =\n",
    "  Machine.make \"right\" [ \"carry\"; \"done\" ]\n",
    "  |> for_state \"right\" [\n",
    "    for_characters \"01\" @@ move Right;\n",
    "    for_character ' ' @@ switch_and_move \"carry\" Left\n",
    "  ]\n",
    "  |> for_state \"carry\" [\n",
    "    for_character '1' @@ write_switch_and_move '0' \"carry\" Left;\n",
    "    for_characters \"0 \" @@ write_switch_and_move '1' \"done\" Left\n",
    "  ]"
   ]
  },
  {
   "cell_type": "code",
   "execution_count": 260,
   "metadata": {
    "vscode": {
     "languageId": "ocaml"
    }
   },
   "outputs": [
    {
     "name": "stdout",
     "output_type": "stream",
     "text": [
      "1100 \n",
      "^\n"
     ]
    },
    {
     "data": {
      "text/plain": [
       "val primer_krajsi_zapis : unit = ()\n"
      ]
     },
     "execution_count": 260,
     "metadata": {},
     "output_type": "execute_result"
    }
   ],
   "source": [
    "let primer_krajsi_zapis = speed_run binary_increment' \"1011\""
   ]
  },
  {
   "cell_type": "code",
   "execution_count": 281,
   "metadata": {
    "vscode": {
     "languageId": "ocaml"
    }
   },
   "outputs": [
    {
     "data": {
      "text/plain": [
       "val reverse : Machine.t = <abstr>\n"
      ]
     },
     "execution_count": 281,
     "metadata": {},
     "output_type": "execute_result"
    }
   ],
   "source": [
    "(*\n",
    "    - \"start\": mark end with X\n",
    "    - \"move-back\": moves the tape head back to the beginning \n",
    "    - \"find-char\": finds the next character\n",
    "    - \"carry-zero\": Handles the reversal logic for a '0'\n",
    "    - \"carry-one\": Handles the reversal logic for a '1'\n",
    "    - \"write-zero\": \n",
    "    - \"write-one\": \n",
    "    - \"clear-x\": clears temporary markers\n",
    "    - \"continue-write\": continues writing \n",
    "    - \"return-start\": returns tape head to star\n",
    "    - \"finished\": \n",
    "*)\n",
    "let reverse =\n",
    "  Machine.make \"start\" [ \"move-back\"; \"find-char\"; \"carry-zero\"; \"carry-one\"; \"write-zero\"; \"write-one\"; \"clear-x\"; \"continue-write\"; \"return-start\"; \"finished\" ]\n",
    "  |> for_state \"start\" [\n",
    "    for_characters \"01\" (move Right);\n",
    "    for_character ' ' (write_switch_and_move 'X' \"move-back\" Left)\n",
    "  ]\n",
    "  |> for_state \"move-back\" [\n",
    "    for_characters \"01\" (move Left);\n",
    "    for_character ' ' (write_switch_and_move 'Y' \"find-char\" Right)\n",
    "  ]\n",
    "  |> for_state \"find-char\" [\n",
    "    for_character ' ' (move Right);\n",
    "    for_character '0' (write_switch_and_move ' ' \"carry-zero\" Left);\n",
    "    for_character '1' (write_switch_and_move ' ' \"carry-one\" Left);\n",
    "    for_character 'X' (write_switch_and_move ' ' \"clear-x\" Left)\n",
    "  ]\n",
    "  |> for_state \"carry-zero\" [\n",
    "    for_character ' ' (move Left);\n",
    "    for_character 'Y' (switch_and_move \"write-zero\" Left)\n",
    "  ]\n",
    "  |> for_state \"carry-one\" [\n",
    "    for_character ' ' (move Left);\n",
    "    for_character 'Y' (switch_and_move \"write-one\" Left)\n",
    "  ]\n",
    "  |> for_state \"write-zero\" [\n",
    "    for_characters \"01\" (move Left);\n",
    "    for_character ' ' (write_switch_and_move '0' \"continue-write\" Right)\n",
    "  ]\n",
    "  |> for_state \"write-one\" [\n",
    "    for_characters \"01\" (move Left);\n",
    "    for_character ' ' (write_switch_and_move '1' \"continue-write\" Right)\n",
    "  ]\n",
    "  |> for_state \"clear-x\" [\n",
    "    for_character ' ' (move Left);\n",
    "    for_character 'Y' (write_switch_and_move ' ' \"return-start\" Left)\n",
    "  ]\n",
    "  |> for_state \"continue-write\" [\n",
    "    for_characters \"01\" (move Right);\n",
    "    for_character 'Y' (switch_and_move \"find-char\" Right)\n",
    "  ]\n",
    "  |> for_state \"return-start\" [\n",
    "    for_characters \"01\" (move Left);\n",
    "    for_character ' ' (switch_and_move \"finished\" Right)\n",
    "  ]\n"
   ]
  },
  {
   "cell_type": "code",
   "execution_count": 282,
   "metadata": {
    "vscode": {
     "languageId": "ocaml"
    }
   },
   "outputs": [
    {
     "name": "stdout",
     "output_type": "stream",
     "text": [
      " 1001110000            \n",
      " ^\n"
     ]
    },
    {
     "data": {
      "text/plain": [
       "val primer_reverse : unit = ()\n"
      ]
     },
     "execution_count": 282,
     "metadata": {},
     "output_type": "execute_result"
    }
   ],
   "source": [
    "let primer_reverse = speed_run reverse \"0000111001\""
   ]
  },
  {
   "cell_type": "code",
   "execution_count": 270,
   "metadata": {
    "vscode": {
     "languageId": "ocaml"
    }
   },
   "outputs": [
    {
     "data": {
      "text/plain": [
       "val duplicate : Machine.t = <abstr>\n"
      ]
     },
     "execution_count": 270,
     "metadata": {},
     "output_type": "execute_result"
    }
   ],
   "source": [
    "(*\n",
    "  State Descriptions:\n",
    "    - \"start\": Finds end of string, marks with 'M'\n",
    "    - \"find-bit\": locates each bit from right to left for duplication\n",
    "    - \"read-bit\": reads and erases the current bit, then directs to write its duplicate\n",
    "    - \"write-first-zero\" / \"write-first-one\": writes the first duplicate bit \n",
    "    - \"write-second-zero\" / \"write-second-one\": writes the second duplicate bit and returns to find the next bit\n",
    "    - \"completed\": /\n",
    "*)\n",
    "let duplicate =\n",
    "  Machine.make \"start\" [ \"find-bit\"; \"read-bit\"; \"write-first-zero\"; \"write-first-one\"; \"write-second-zero\"; \"write-second-one\"; \"completed\" ]\n",
    "  |> for_state \"start\" [\n",
    "    for_characters \"01\" (move Right);\n",
    "    for_character ' ' (write_switch_and_move 'M' \"find-bit\" Left)\n",
    "  ]\n",
    "  |> for_state \"find-bit\" [\n",
    "    for_characters \"01M\" (move Left);\n",
    "    for_character ' ' (switch_and_move \"read-bit\" Right)\n",
    "  ]\n",
    "  |> for_state \"read-bit\" [\n",
    "    for_character '0' (write_switch_and_move ' ' \"write-first-zero\" Right);\n",
    "    for_character '1' (write_switch_and_move ' ' \"write-first-one\" Right);\n",
    "    for_character 'M' (write_switch_and_move ' ' \"completed\" Right)\n",
    "  ]\n",
    "  |> for_state \"write-first-zero\" [\n",
    "    for_characters \"01M\" (move Right);\n",
    "    for_character ' ' (write_switch_and_move '0' \"write-second-zero\" Right)\n",
    "  ]\n",
    "  |> for_state \"write-first-one\" [\n",
    "    for_characters \"01M\" (move Right);\n",
    "    for_character ' ' (write_switch_and_move '1' \"write-second-one\" Right)\n",
    "  ]\n",
    "  |> for_state \"write-second-zero\" [\n",
    "    for_character ' ' (write_switch_and_move '0' \"find-bit\" Left)\n",
    "  ]\n",
    "  |> for_state \"write-second-one\" [\n",
    "    for_character ' ' (write_switch_and_move '1' \"find-bit\" Left)\n",
    "  ]\n"
   ]
  },
  {
   "cell_type": "code",
   "execution_count": 278,
   "metadata": {
    "vscode": {
     "languageId": "ocaml"
    }
   },
   "outputs": [
    {
     "name": "stdout",
     "output_type": "stream",
     "text": [
      "        001100001111\n",
      "        ^\n"
     ]
    },
    {
     "data": {
      "text/plain": [
       "val primer_duplicate : unit = ()\n"
      ]
     },
     "execution_count": 278,
     "metadata": {},
     "output_type": "execute_result"
    }
   ],
   "source": [
    "let primer_duplicate = speed_run duplicate \"010011\""
   ]
  },
  {
   "cell_type": "code",
   "execution_count": 272,
   "metadata": {
    "vscode": {
     "languageId": "ocaml"
    }
   },
   "outputs": [
    {
     "data": {
      "text/plain": [
       "val to_unary : Machine.t = <abstr>\n"
      ]
     },
     "execution_count": 272,
     "metadata": {},
     "output_type": "execute_result"
    }
   ],
   "source": [
    "(*\n",
    "    - \"move-right\": moves right till empty space\n",
    "    - \"subtract-one\": performs the subtraction of one from the binary number\n",
    "    - \"transfer-left\": moves the tape head left\n",
    "    - \"write-unary\": writes a unary '1' \n",
    "    - \"return-to-start\": returns the tape head to the starting position\n",
    "    - \"clear-bits\": cleans up remaining bits \n",
    "    - \"finished\": /\n",
    "*)\n",
    "let to_unary =\n",
    "  Machine.make \"move-right\" [ \"subtract-one\"; \"transfer-left\"; \"write-unary\"; \"clear-bits\"; \"return-to-start\"; \"finished\" ]\n",
    "  |> for_state \"move-right\" [\n",
    "    for_characters \"01\" (move Right);\n",
    "    for_character ' ' (switch_and_move \"subtract-one\" Left)\n",
    "  ]\n",
    "  |> for_state \"subtract-one\" [\n",
    "    for_character '1' (write_switch_and_move '0' \"transfer-left\" Right);\n",
    "    for_character '0' (write_switch_and_move '1' \"subtract-one\" Left);\n",
    "    for_character ' ' (switch_and_move \"clear-bits\" Right)\n",
    "  ]\n",
    "  |> for_state \"transfer-left\" [\n",
    "    for_characters \"01\" (move Right);\n",
    "    for_character ' ' (switch_and_move \"write-unary\" Right)\n",
    "  ]\n",
    "  |> for_state \"write-unary\" [\n",
    "    for_character '1' (move Right);\n",
    "    for_character ' ' (write_switch_and_move '1' \"return-to-start\" Left)\n",
    "  ]\n",
    "  |> for_state \"clear-bits\" [\n",
    "    for_character '1' (write_and_move ' ' Right);\n",
    "    for_character ' ' (switch_and_move \"finished\" Right)\n",
    "  ]\n",
    "  |> for_state \"return-to-start\" [\n",
    "    for_character '1' (move Left);\n",
    "    for_character ' ' (switch_and_move \"subtract-one\" Left)\n",
    "  ]\n"
   ]
  },
  {
   "cell_type": "code",
   "execution_count": 273,
   "metadata": {
    "vscode": {
     "languageId": "ocaml"
    }
   },
   "outputs": [
    {
     "name": "stdout",
     "output_type": "stream",
     "text": [
      "      1111111111\n",
      "      ^\n"
     ]
    },
    {
     "data": {
      "text/plain": [
       "val primer_to_unary : unit = ()\n"
      ]
     },
     "execution_count": 273,
     "metadata": {},
     "output_type": "execute_result"
    }
   ],
   "source": [
    "let primer_to_unary = speed_run to_unary \"1010\""
   ]
  },
  {
   "cell_type": "code",
   "execution_count": 274,
   "metadata": {
    "vscode": {
     "languageId": "ocaml"
    }
   },
   "outputs": [
    {
     "data": {
      "text/plain": [
       "val to_binary : Machine.t = <abstr>\n"
      ]
     },
     "execution_count": 274,
     "metadata": {},
     "output_type": "execute_result"
    }
   ],
   "source": [
    "(*\n",
    "    - \"carry-after\": handles the carry-over logic \n",
    "    - \"start-marker\": markes end of string\n",
    "    - \"return\": moves the tape head back\n",
    "    - \"lookup\": reads and processes each bit\n",
    "    - \"carry-before\": prepares to handle carry-over \n",
    "    - \"finish\": clearing unnecessary bits\n",
    "    - \"delete_M\": removes M\n",
    "*)\n",
    "let to_binary =\n",
    "  Machine.make \"start-marker\" [\"lookup\"; \"carry-before\"; \"carry-after\"; \"finish\"; \"return\"; \"delete_M\"] \n",
    "  |> for_state \"carry-after\"[\n",
    "    for_characters \"0 \" (write_switch_and_move '1' \"return\" Right);\n",
    "    for_character '1' (write_and_move '0' Left)\n",
    "  ]\n",
    "  |> for_state \"start-marker\"[\n",
    "    for_character '1' (move Left) ;\n",
    "    for_character ' ' (write_switch_and_move 'M' \"lookup\" Right)\n",
    "  ]\n",
    "  |> for_state \"return\"[\n",
    "    for_characters \"01\" (move Right) ;\n",
    "    for_character 'M' (switch_and_move \"lookup\" Right)\n",
    "  ]\n",
    "  |> for_state \"lookup\"[\n",
    "    for_character '1' (write_switch_and_move '0' \"carry-before\" Left) ;\n",
    "    for_character '0' (move Right) ;\n",
    "    for_character ' ' (switch_and_move \"finish\" Left)\n",
    "  ]\n",
    "  |> for_state \"carry-before\"[\n",
    "    for_character '0' (move Left) ;\n",
    "    for_character 'M' (switch_and_move \"carry-after\" Left)\n",
    "  ]\n",
    "  |> for_state \"finish\"[\n",
    "    for_character '0' (write_and_move ' ' Left) ;\n",
    "    for_character 'M' (write_switch_and_move ' ' \"delete_M\" Left)\n",
    "  ]\n"
   ]
  },
  {
   "cell_type": "code",
   "execution_count": 275,
   "metadata": {
    "vscode": {
     "languageId": "ocaml"
    }
   },
   "outputs": [
    {
     "name": "stdout",
     "output_type": "stream",
     "text": [
      "101010                                            \n",
      "     ^\n"
     ]
    },
    {
     "data": {
      "text/plain": [
       "val primer_to_binary : unit = ()\n"
      ]
     },
     "execution_count": 275,
     "metadata": {},
     "output_type": "execute_result"
    }
   ],
   "source": [
    "let primer_to_binary = speed_run to_binary (String.make 42 '1')"
   ]
  }
 ],
 "metadata": {
  "kernelspec": {
   "display_name": "OCaml 4.14",
   "language": "OCaml",
   "name": "ocaml-jupyter"
  },
  "language_info": {
   "codemirror_mode": "text/x-ocaml",
   "file_extension": ".ml",
   "mimetype": "text/x-ocaml",
   "name": "OCaml",
   "nbconverter_exporter": null,
   "pygments_lexer": "OCaml",
   "version": "4.14.2"
  },
  "orig_nbformat": 4
 },
 "nbformat": 4,
 "nbformat_minor": 2
}
